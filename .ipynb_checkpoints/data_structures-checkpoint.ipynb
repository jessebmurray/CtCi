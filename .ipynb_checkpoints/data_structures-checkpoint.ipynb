{
 "cells": [
  {
   "cell_type": "markdown",
   "metadata": {},
   "source": [
    "# Essential Data Structures \n",
    "#### (In Python)"
   ]
  },
  {
   "cell_type": "markdown",
   "metadata": {},
   "source": [
    "### Linked List"
   ]
  },
  {
   "cell_type": "code",
   "execution_count": 125,
   "metadata": {},
   "outputs": [],
   "source": [
    "# Base version\n",
    "\n",
    "class ListNode:\n",
    "    def __init__(self, x):\n",
    "        self.val = x\n",
    "        self.next = None"
   ]
  },
  {
   "cell_type": "code",
   "execution_count": 367,
   "metadata": {},
   "outputs": [],
   "source": [
    "class ListNode:\n",
    "    def __init__(self, x):\n",
    "        self.val = x\n",
    "        self.next = None\n",
    "        self.prev = None        \n",
    "        self.end = self  # Initialize the end of the linked list to self\n",
    "\n",
    "        \n",
    "    def appendHead(self, x):\n",
    "        \"\"\"\n",
    "        Appends an item `x` to the *head* of the linked list. O(1)\n",
    "        \"\"\"\n",
    "        head_next = self.next  # Store the previous head's next \n",
    "        \n",
    "        # Update new Head\n",
    "        self.next = ListNode(self.val)  # Make updated head point to new node of the previous head\n",
    "        self.val = x  # Make updated head have the new value\n",
    "        if self.end == self:  # The end will be correctly pointed except in this edge case\n",
    "            self.end = self.next\n",
    "        \n",
    "        # Correct old Head\n",
    "        self.next.next = head_next # Make the new node point to its original next\n",
    "        self.next.prev = self # Make the new node's previous be the updated head\n",
    "        \n",
    "        if self.next.next:  # if the previous head had a next\n",
    "            self.next.next.prev = self.next  # make it point to new node of previous head\n",
    "\n",
    "            \n",
    "    def pop(self):\n",
    "        \"\"\"\n",
    "        Pops the head of the linked list. O(1)\n",
    "        \"\"\"\n",
    "        temp_val = self.val\n",
    "        \n",
    "        if self.next:  # Check if more than one node in linked list\n",
    "            self.val = self.next.val\n",
    "            \n",
    "            if self.next == self.end:\n",
    "                self.end = self\n",
    "                \n",
    "            self.next = self.next.next\n",
    "            \n",
    "        else:\n",
    "            self.val = None\n",
    "            \n",
    "        return temp_val\n",
    "     \n",
    "        \n",
    "    def append(self, x):\n",
    "        \"\"\"\n",
    "        Appends an item `x` to the *tail* of the linked list. O(1)\n",
    "        \n",
    "        Note:\n",
    "        Each node erroneously 'believes' or has in memory that they are themselves the end\n",
    "        of the linked list, except, for the head node. *Only* the head node has the true end \n",
    "        of the linked list stored in its `end` object, all other nodes have themselves stored\n",
    "        in their `end` object. \n",
    "        This property does not in any way corrupt the functionality of the essential property:\n",
    "        Accurate O(1) insertion, retrieval, and deletion from the head and tail.\n",
    "        \"\"\"\n",
    "        self.end.next = ListNode(x)  # Add list node to next of current end\n",
    "        self.end.next.prev = self.end  # Make the node's prev = current end\n",
    "        self.end = self.end.next  # Update current (head node's) end to be the new node\n",
    "        \n",
    "        \n",
    "    def popTail(self):\n",
    "        \"\"\"\n",
    "        Pops the tail of the linked list. O(1)\n",
    "        \"\"\"\n",
    "        temp_val = self.end.val\n",
    "        if self.end.prev:  # Check if more than one node in linked list\n",
    "            self.end.prev.next = None  # Set the new end of the list to correctly point to None\n",
    "            self.end = self.end.prev # Make new end point to the end's previous\n",
    "        else:\n",
    "            self.val = None\n",
    "        return temp_val\n",
    "            \n",
    "        \n",
    "    def getFirst(self):\n",
    "        return self.val\n",
    "    \n",
    "    \n",
    "    def getLast(self):\n",
    "        return self.end.val\n",
    "\n",
    "    \n",
    "    def print_all(self):\n",
    "        \"\"\"\n",
    "        Returns contents of linked list as an array. O(N)\n",
    "        \"\"\"\n",
    "        n = self\n",
    "        ll = list()\n",
    "        while n is not None:\n",
    "            ll.append(n.val)\n",
    "            n = n.next\n",
    "        return ll\n",
    "            \n",
    "        \n",
    "    def delete_all(self, value):\n",
    "        \"\"\"\n",
    "        Deletes all instances of the given value from the linked list. O(N)\n",
    "        Not yet updated to correctly handle the recently added `end` object.\n",
    "        \"\"\"\n",
    "        n = self\n",
    "    \n",
    "        def delete_heads(n):\n",
    "            while (n is not None) and (n.val == value):  # delete head(s)\n",
    "                if n.next is None:  # if reached end of list\n",
    "                    n.val = None\n",
    "                else:  # replace head with next\n",
    "                    n.val = n.next.val\n",
    "                    n.next = n.next.next   \n",
    "                    \n",
    "        delete_heads(n)\n",
    "\n",
    "        while (n is not None) and (n.next is not None):  # delete rest\n",
    "            if n.next.val == value:\n",
    "                if n.next.next is None:\n",
    "                    n.next = None\n",
    "                else:\n",
    "                    n.next = n.next.next\n",
    "            n = n.next  # continue iteration\n",
    "            delete_heads(n)  # potentially the new node has the value\n",
    "            \n",
    "        # remove the potential None value at the end\n",
    "        n = self\n",
    "        while n.next is not None:\n",
    "            if (n.next.next is None) and (n.next.val is None):\n",
    "                n.next = None\n",
    "            else:\n",
    "                n = n.next\n",
    "                \n",
    "\n",
    "class LinkedList:\n",
    "    def __init__(self):\n",
    "        self.len = 0\n",
    "        self.head = None\n",
    "        \n",
    "    def isEmpty(self):\n",
    "        return self.len == 0\n",
    "    \n",
    "    \n",
    "    def addTail(self, x):\n",
    "        self.len += 1\n",
    "        if self.head:\n",
    "            self.head.append(x)\n",
    "        else:\n",
    "            self.head = ListNode(x)\n",
    "            \n",
    "            \n",
    "    def addHead(self, x):\n",
    "        self.len += 1\n",
    "        if self.head:\n",
    "            self.head.appendHead(x)\n",
    "        else:\n",
    "            self.head = ListNode(x)\n",
    "            \n",
    "\n",
    "    def popHead(self):\n",
    "        if self.len > 0:\n",
    "            self.len -= 1\n",
    "            return self.head.pop()\n",
    "        else:\n",
    "            raise Exception('Empty linked list.')\n",
    "    \n",
    "    def popTail(self):\n",
    "        if self.len > 0:\n",
    "            self.len -= 1\n",
    "            return self.head.popTail()\n",
    "        else:\n",
    "            raise Exception('Empty linked list.')\n",
    "    \n",
    "    def nNodes(self):\n",
    "        return self.len\n",
    "    \n",
    "    def peekHead(self):\n",
    "        if self.len > 0:\n",
    "            return self.head.getFirst()\n",
    "        else:\n",
    "            raise Exception('Empty linked list.')\n",
    "            \n",
    "    def peekTail(self):\n",
    "        if self.len > 0:\n",
    "            return self.head.getLast()\n",
    "        else:\n",
    "            raise Exception('Empty linked list.')\n",
    "            \n",
    "    def peekAll(self):\n",
    "        if self.len > 0:\n",
    "            return self.head.print_all()\n",
    "        else:\n",
    "            raise Exception('Empty linked list.')\n",
    "        \n",
    "        \n"
   ]
  },
  {
   "cell_type": "code",
   "execution_count": 348,
   "metadata": {},
   "outputs": [
    {
     "data": {
      "text/plain": [
       "['__class__',\n",
       " '__delattr__',\n",
       " '__dict__',\n",
       " '__dir__',\n",
       " '__doc__',\n",
       " '__eq__',\n",
       " '__format__',\n",
       " '__ge__',\n",
       " '__getattribute__',\n",
       " '__gt__',\n",
       " '__hash__',\n",
       " '__init__',\n",
       " '__init_subclass__',\n",
       " '__le__',\n",
       " '__lt__',\n",
       " '__module__',\n",
       " '__ne__',\n",
       " '__new__',\n",
       " '__reduce__',\n",
       " '__reduce_ex__',\n",
       " '__repr__',\n",
       " '__setattr__',\n",
       " '__sizeof__',\n",
       " '__str__',\n",
       " '__subclasshook__',\n",
       " '__weakref__',\n",
       " 'addHead',\n",
       " 'addTail',\n",
       " 'isEmpty',\n",
       " 'nNodes',\n",
       " 'peekAll',\n",
       " 'peekHead',\n",
       " 'peekTail',\n",
       " 'popHead',\n",
       " 'popTail']"
      ]
     },
     "execution_count": 348,
     "metadata": {},
     "output_type": "execute_result"
    }
   ],
   "source": [
    "dir(LinkedList)"
   ]
  },
  {
   "cell_type": "code",
   "execution_count": 349,
   "metadata": {},
   "outputs": [],
   "source": [
    "a = LinkedList()\n",
    "\n",
    "a.addTail(3)\n",
    "a.addTail(5)\n",
    "a.addTail(6)"
   ]
  },
  {
   "cell_type": "code",
   "execution_count": 350,
   "metadata": {},
   "outputs": [
    {
     "data": {
      "text/plain": [
       "(3, 6, 3)"
      ]
     },
     "execution_count": 350,
     "metadata": {},
     "output_type": "execute_result"
    }
   ],
   "source": [
    "a.nNodes(), a.peekTail(), a.peekHead()"
   ]
  },
  {
   "cell_type": "code",
   "execution_count": 351,
   "metadata": {},
   "outputs": [
    {
     "data": {
      "text/plain": [
       "6"
      ]
     },
     "execution_count": 351,
     "metadata": {},
     "output_type": "execute_result"
    }
   ],
   "source": [
    "a.popTail()"
   ]
  },
  {
   "cell_type": "code",
   "execution_count": 352,
   "metadata": {},
   "outputs": [
    {
     "data": {
      "text/plain": [
       "[3, 5]"
      ]
     },
     "execution_count": 352,
     "metadata": {},
     "output_type": "execute_result"
    }
   ],
   "source": [
    "a.peekAll()"
   ]
  },
  {
   "cell_type": "code",
   "execution_count": 353,
   "metadata": {},
   "outputs": [
    {
     "data": {
      "text/plain": [
       "3"
      ]
     },
     "execution_count": 353,
     "metadata": {},
     "output_type": "execute_result"
    }
   ],
   "source": [
    "a.popHead()"
   ]
  },
  {
   "cell_type": "code",
   "execution_count": 354,
   "metadata": {},
   "outputs": [
    {
     "data": {
      "text/plain": [
       "[5]"
      ]
     },
     "execution_count": 354,
     "metadata": {},
     "output_type": "execute_result"
    }
   ],
   "source": [
    "a.peekAll()"
   ]
  },
  {
   "cell_type": "code",
   "execution_count": 355,
   "metadata": {},
   "outputs": [
    {
     "data": {
      "text/plain": [
       "5"
      ]
     },
     "execution_count": 355,
     "metadata": {},
     "output_type": "execute_result"
    }
   ],
   "source": [
    "a.popTail()"
   ]
  },
  {
   "cell_type": "code",
   "execution_count": 358,
   "metadata": {},
   "outputs": [
    {
     "data": {
      "text/plain": [
       "0"
      ]
     },
     "execution_count": 358,
     "metadata": {},
     "output_type": "execute_result"
    }
   ],
   "source": [
    "a.nNodes()"
   ]
  },
  {
   "cell_type": "code",
   "execution_count": 357,
   "metadata": {},
   "outputs": [
    {
     "data": {
      "text/plain": [
       "True"
      ]
     },
     "execution_count": 357,
     "metadata": {},
     "output_type": "execute_result"
    }
   ],
   "source": [
    "a.isEmpty()"
   ]
  },
  {
   "cell_type": "code",
   "execution_count": null,
   "metadata": {},
   "outputs": [],
   "source": []
  },
  {
   "cell_type": "code",
   "execution_count": null,
   "metadata": {},
   "outputs": [],
   "source": []
  },
  {
   "cell_type": "code",
   "execution_count": 228,
   "metadata": {},
   "outputs": [],
   "source": [
    "a = ListNode(3)\n",
    "a.append(5)\n",
    "a.append(6)\n",
    "a.append(7)\n",
    "a.appendHead(8)\n",
    "# a.append(7)\n",
    "# a.append(3)\n",
    "# a.appendHead(10)"
   ]
  },
  {
   "cell_type": "code",
   "execution_count": 229,
   "metadata": {},
   "outputs": [
    {
     "data": {
      "text/plain": [
       "[8, 3, 5, 6, 7]"
      ]
     },
     "execution_count": 229,
     "metadata": {},
     "output_type": "execute_result"
    }
   ],
   "source": [
    "a.print_all()"
   ]
  },
  {
   "cell_type": "code",
   "execution_count": 230,
   "metadata": {},
   "outputs": [
    {
     "data": {
      "text/plain": [
       "(7, 3, 5, 6, 7)"
      ]
     },
     "execution_count": 230,
     "metadata": {},
     "output_type": "execute_result"
    }
   ],
   "source": [
    "a.end.val, a.next.getLast(), a.next.next.getLast(), a.next.next.next.getLast(), \\\n",
    "                                            a.next.next.next.next.getLast()"
   ]
  },
  {
   "cell_type": "code",
   "execution_count": 231,
   "metadata": {},
   "outputs": [
    {
     "data": {
      "text/plain": [
       "8"
      ]
     },
     "execution_count": 231,
     "metadata": {},
     "output_type": "execute_result"
    }
   ],
   "source": [
    "a.pop()"
   ]
  },
  {
   "cell_type": "code",
   "execution_count": 232,
   "metadata": {},
   "outputs": [
    {
     "data": {
      "text/plain": [
       "[3, 5, 6, 7]"
      ]
     },
     "execution_count": 232,
     "metadata": {},
     "output_type": "execute_result"
    }
   ],
   "source": [
    "a.print_all()"
   ]
  },
  {
   "cell_type": "code",
   "execution_count": 233,
   "metadata": {},
   "outputs": [
    {
     "data": {
      "text/plain": [
       "(7, 5, 6, 7)"
      ]
     },
     "execution_count": 233,
     "metadata": {},
     "output_type": "execute_result"
    }
   ],
   "source": [
    "a.end.val, a.next.getLast(), a.next.next.getLast(), a.next.next.next.getLast()"
   ]
  },
  {
   "cell_type": "code",
   "execution_count": 234,
   "metadata": {},
   "outputs": [
    {
     "data": {
      "text/plain": [
       "7"
      ]
     },
     "execution_count": 234,
     "metadata": {},
     "output_type": "execute_result"
    }
   ],
   "source": [
    "a.popTail()"
   ]
  },
  {
   "cell_type": "code",
   "execution_count": 235,
   "metadata": {},
   "outputs": [
    {
     "data": {
      "text/plain": [
       "[3, 5, 6]"
      ]
     },
     "execution_count": 235,
     "metadata": {},
     "output_type": "execute_result"
    }
   ],
   "source": [
    "a.print_all()"
   ]
  },
  {
   "cell_type": "code",
   "execution_count": 236,
   "metadata": {},
   "outputs": [
    {
     "data": {
      "text/plain": [
       "(6, 5, 6)"
      ]
     },
     "execution_count": 236,
     "metadata": {},
     "output_type": "execute_result"
    }
   ],
   "source": [
    "a.end.val, a.next.getLast(), a.next.next.getLast()"
   ]
  },
  {
   "cell_type": "code",
   "execution_count": 237,
   "metadata": {},
   "outputs": [
    {
     "data": {
      "text/plain": [
       "(3, 6)"
      ]
     },
     "execution_count": 237,
     "metadata": {},
     "output_type": "execute_result"
    }
   ],
   "source": [
    "a.getFirst(), a.getLast()"
   ]
  },
  {
   "cell_type": "code",
   "execution_count": 238,
   "metadata": {},
   "outputs": [],
   "source": [
    "a.append(3)"
   ]
  },
  {
   "cell_type": "code",
   "execution_count": 239,
   "metadata": {},
   "outputs": [],
   "source": [
    "a.append(5)\n",
    "a.append(3)"
   ]
  },
  {
   "cell_type": "code",
   "execution_count": 240,
   "metadata": {},
   "outputs": [
    {
     "data": {
      "text/plain": [
       "[3, 5, 6, 3, 5, 3]"
      ]
     },
     "execution_count": 240,
     "metadata": {},
     "output_type": "execute_result"
    }
   ],
   "source": [
    "a.print_all()"
   ]
  },
  {
   "cell_type": "code",
   "execution_count": 241,
   "metadata": {},
   "outputs": [],
   "source": [
    "a.delete_all(3)"
   ]
  },
  {
   "cell_type": "code",
   "execution_count": 242,
   "metadata": {},
   "outputs": [
    {
     "data": {
      "text/plain": [
       "[5, 6, 5]"
      ]
     },
     "execution_count": 242,
     "metadata": {},
     "output_type": "execute_result"
    }
   ],
   "source": [
    "a.print_all()"
   ]
  },
  {
   "cell_type": "code",
   "execution_count": null,
   "metadata": {},
   "outputs": [],
   "source": []
  },
  {
   "cell_type": "code",
   "execution_count": null,
   "metadata": {},
   "outputs": [],
   "source": []
  },
  {
   "cell_type": "markdown",
   "metadata": {},
   "source": [
    "### Stack\n",
    "\n",
    "Stacks have the essential property that the data storage and retrieval can be summarized by the heuristic 'last in first out', just like a stack of plates. Likewise, they also have the property 'first in last out'. \n",
    "\n",
    "This particular form of data storage and retrieval can make stacks a great data structure in some applications, as we shall see."
   ]
  },
  {
   "cell_type": "code",
   "execution_count": 91,
   "metadata": {},
   "outputs": [],
   "source": [
    "class Stack:\n",
    "    def __init__(self):\n",
    "        self.__items = list()\n",
    "    \n",
    "    def push(self, x):\n",
    "        self.__items.append(x)\n",
    "        \n",
    "    def pop(self):\n",
    "        # self.items.pop()\n",
    "        # or\n",
    "        try:\n",
    "            temp = self.__items[-1]\n",
    "            del self.__items[-1]\n",
    "            return temp\n",
    "        except:\n",
    "            raise Exception('Cannot pop from an empty stack.')\n",
    "    \n",
    "    def isEmpty(self):\n",
    "        return self.__items == list()\n",
    "    \n",
    "    def peek(self):\n",
    "        return self.__items[-1]\n",
    "    \n",
    "    def size(self):\n",
    "        return len(self.__items)\n",
    "    \n",
    "    def getItems(self):\n",
    "        return self.__items"
   ]
  },
  {
   "cell_type": "code",
   "execution_count": 53,
   "metadata": {},
   "outputs": [],
   "source": [
    "a = Stack()"
   ]
  },
  {
   "cell_type": "code",
   "execution_count": 54,
   "metadata": {},
   "outputs": [
    {
     "ename": "Exception",
     "evalue": "Cannot pop from an empty stack.",
     "output_type": "error",
     "traceback": [
      "\u001b[0;31m---------------------------------------------------------------------------\u001b[0m",
      "\u001b[0;31mIndexError\u001b[0m                                Traceback (most recent call last)",
      "\u001b[0;32m<ipython-input-6-6d61527c9c7e>\u001b[0m in \u001b[0;36mpop\u001b[0;34m(self)\u001b[0m\n\u001b[1;32m     11\u001b[0m         \u001b[0;32mtry\u001b[0m\u001b[0;34m:\u001b[0m\u001b[0;34m\u001b[0m\u001b[0;34m\u001b[0m\u001b[0m\n\u001b[0;32m---> 12\u001b[0;31m             \u001b[0mtemp\u001b[0m \u001b[0;34m=\u001b[0m \u001b[0mself\u001b[0m\u001b[0;34m.\u001b[0m\u001b[0m__items\u001b[0m\u001b[0;34m[\u001b[0m\u001b[0;34m-\u001b[0m\u001b[0;36m1\u001b[0m\u001b[0;34m]\u001b[0m\u001b[0;34m\u001b[0m\u001b[0;34m\u001b[0m\u001b[0m\n\u001b[0m\u001b[1;32m     13\u001b[0m             \u001b[0;32mdel\u001b[0m \u001b[0mself\u001b[0m\u001b[0;34m.\u001b[0m\u001b[0m__items\u001b[0m\u001b[0;34m[\u001b[0m\u001b[0;34m-\u001b[0m\u001b[0;36m1\u001b[0m\u001b[0;34m]\u001b[0m\u001b[0;34m\u001b[0m\u001b[0;34m\u001b[0m\u001b[0m\n",
      "\u001b[0;31mIndexError\u001b[0m: list index out of range",
      "\nDuring handling of the above exception, another exception occurred:\n",
      "\u001b[0;31mException\u001b[0m                                 Traceback (most recent call last)",
      "\u001b[0;32m<ipython-input-54-9c070c907602>\u001b[0m in \u001b[0;36m<module>\u001b[0;34m\u001b[0m\n\u001b[0;32m----> 1\u001b[0;31m \u001b[0ma\u001b[0m\u001b[0;34m.\u001b[0m\u001b[0mpop\u001b[0m\u001b[0;34m(\u001b[0m\u001b[0;34m)\u001b[0m\u001b[0;34m\u001b[0m\u001b[0;34m\u001b[0m\u001b[0m\n\u001b[0m",
      "\u001b[0;32m<ipython-input-6-6d61527c9c7e>\u001b[0m in \u001b[0;36mpop\u001b[0;34m(self)\u001b[0m\n\u001b[1;32m     14\u001b[0m             \u001b[0;32mreturn\u001b[0m \u001b[0mtemp\u001b[0m\u001b[0;34m\u001b[0m\u001b[0;34m\u001b[0m\u001b[0m\n\u001b[1;32m     15\u001b[0m         \u001b[0;32mexcept\u001b[0m\u001b[0;34m:\u001b[0m\u001b[0;34m\u001b[0m\u001b[0;34m\u001b[0m\u001b[0m\n\u001b[0;32m---> 16\u001b[0;31m             \u001b[0;32mraise\u001b[0m \u001b[0mException\u001b[0m\u001b[0;34m(\u001b[0m\u001b[0;34m'Cannot pop from an empty stack.'\u001b[0m\u001b[0;34m)\u001b[0m\u001b[0;34m\u001b[0m\u001b[0;34m\u001b[0m\u001b[0m\n\u001b[0m\u001b[1;32m     17\u001b[0m \u001b[0;34m\u001b[0m\u001b[0m\n\u001b[1;32m     18\u001b[0m     \u001b[0;32mdef\u001b[0m \u001b[0misEmpty\u001b[0m\u001b[0;34m(\u001b[0m\u001b[0mself\u001b[0m\u001b[0;34m)\u001b[0m\u001b[0;34m:\u001b[0m\u001b[0;34m\u001b[0m\u001b[0;34m\u001b[0m\u001b[0m\n",
      "\u001b[0;31mException\u001b[0m: Cannot pop from an empty stack."
     ]
    }
   ],
   "source": [
    "a.pop()"
   ]
  },
  {
   "cell_type": "code",
   "execution_count": 55,
   "metadata": {},
   "outputs": [
    {
     "data": {
      "text/plain": [
       "True"
      ]
     },
     "execution_count": 55,
     "metadata": {},
     "output_type": "execute_result"
    }
   ],
   "source": [
    "a.isEmpty()"
   ]
  },
  {
   "cell_type": "code",
   "execution_count": null,
   "metadata": {},
   "outputs": [],
   "source": [
    "a.push(3)\n",
    "a.push(5)"
   ]
  },
  {
   "cell_type": "code",
   "execution_count": 9,
   "metadata": {},
   "outputs": [
    {
     "data": {
      "text/plain": [
       "True"
      ]
     },
     "execution_count": 9,
     "metadata": {},
     "output_type": "execute_result"
    }
   ],
   "source": [
    "a.isEmpty()"
   ]
  },
  {
   "cell_type": "code",
   "execution_count": 10,
   "metadata": {},
   "outputs": [
    {
     "ename": "IndexError",
     "evalue": "list index out of range",
     "output_type": "error",
     "traceback": [
      "\u001b[0;31m---------------------------------------------------------------------------\u001b[0m",
      "\u001b[0;31mIndexError\u001b[0m                                Traceback (most recent call last)",
      "\u001b[0;32m<ipython-input-10-4e7fb1ea9117>\u001b[0m in \u001b[0;36m<module>\u001b[0;34m\u001b[0m\n\u001b[0;32m----> 1\u001b[0;31m \u001b[0ma\u001b[0m\u001b[0;34m.\u001b[0m\u001b[0mpeek\u001b[0m\u001b[0;34m(\u001b[0m\u001b[0;34m)\u001b[0m\u001b[0;34m\u001b[0m\u001b[0;34m\u001b[0m\u001b[0m\n\u001b[0m",
      "\u001b[0;32m<ipython-input-6-6d61527c9c7e>\u001b[0m in \u001b[0;36mpeek\u001b[0;34m(self)\u001b[0m\n\u001b[1;32m     20\u001b[0m \u001b[0;34m\u001b[0m\u001b[0m\n\u001b[1;32m     21\u001b[0m     \u001b[0;32mdef\u001b[0m \u001b[0mpeek\u001b[0m\u001b[0;34m(\u001b[0m\u001b[0mself\u001b[0m\u001b[0;34m)\u001b[0m\u001b[0;34m:\u001b[0m\u001b[0;34m\u001b[0m\u001b[0;34m\u001b[0m\u001b[0m\n\u001b[0;32m---> 22\u001b[0;31m         \u001b[0;32mreturn\u001b[0m \u001b[0mself\u001b[0m\u001b[0;34m.\u001b[0m\u001b[0m__items\u001b[0m\u001b[0;34m[\u001b[0m\u001b[0;34m-\u001b[0m\u001b[0;36m1\u001b[0m\u001b[0;34m]\u001b[0m\u001b[0;34m\u001b[0m\u001b[0;34m\u001b[0m\u001b[0m\n\u001b[0m\u001b[1;32m     23\u001b[0m \u001b[0;34m\u001b[0m\u001b[0m\n\u001b[1;32m     24\u001b[0m     \u001b[0;32mdef\u001b[0m \u001b[0msize\u001b[0m\u001b[0;34m(\u001b[0m\u001b[0mself\u001b[0m\u001b[0;34m)\u001b[0m\u001b[0;34m:\u001b[0m\u001b[0;34m\u001b[0m\u001b[0;34m\u001b[0m\u001b[0m\n",
      "\u001b[0;31mIndexError\u001b[0m: list index out of range"
     ]
    }
   ],
   "source": [
    "a.peek()"
   ]
  },
  {
   "cell_type": "code",
   "execution_count": 11,
   "metadata": {},
   "outputs": [
    {
     "data": {
      "text/plain": [
       "[]"
      ]
     },
     "execution_count": 11,
     "metadata": {},
     "output_type": "execute_result"
    }
   ],
   "source": [
    "a.getItems()"
   ]
  },
  {
   "cell_type": "code",
   "execution_count": 12,
   "metadata": {},
   "outputs": [
    {
     "ename": "Exception",
     "evalue": "Cannot pop from an empty stack.",
     "output_type": "error",
     "traceback": [
      "\u001b[0;31m---------------------------------------------------------------------------\u001b[0m",
      "\u001b[0;31mIndexError\u001b[0m                                Traceback (most recent call last)",
      "\u001b[0;32m<ipython-input-6-6d61527c9c7e>\u001b[0m in \u001b[0;36mpop\u001b[0;34m(self)\u001b[0m\n\u001b[1;32m     11\u001b[0m         \u001b[0;32mtry\u001b[0m\u001b[0;34m:\u001b[0m\u001b[0;34m\u001b[0m\u001b[0;34m\u001b[0m\u001b[0m\n\u001b[0;32m---> 12\u001b[0;31m             \u001b[0mtemp\u001b[0m \u001b[0;34m=\u001b[0m \u001b[0mself\u001b[0m\u001b[0;34m.\u001b[0m\u001b[0m__items\u001b[0m\u001b[0;34m[\u001b[0m\u001b[0;34m-\u001b[0m\u001b[0;36m1\u001b[0m\u001b[0;34m]\u001b[0m\u001b[0;34m\u001b[0m\u001b[0;34m\u001b[0m\u001b[0m\n\u001b[0m\u001b[1;32m     13\u001b[0m             \u001b[0;32mdel\u001b[0m \u001b[0mself\u001b[0m\u001b[0;34m.\u001b[0m\u001b[0m__items\u001b[0m\u001b[0;34m[\u001b[0m\u001b[0;34m-\u001b[0m\u001b[0;36m1\u001b[0m\u001b[0;34m]\u001b[0m\u001b[0;34m\u001b[0m\u001b[0;34m\u001b[0m\u001b[0m\n",
      "\u001b[0;31mIndexError\u001b[0m: list index out of range",
      "\nDuring handling of the above exception, another exception occurred:\n",
      "\u001b[0;31mException\u001b[0m                                 Traceback (most recent call last)",
      "\u001b[0;32m<ipython-input-12-9c070c907602>\u001b[0m in \u001b[0;36m<module>\u001b[0;34m\u001b[0m\n\u001b[0;32m----> 1\u001b[0;31m \u001b[0ma\u001b[0m\u001b[0;34m.\u001b[0m\u001b[0mpop\u001b[0m\u001b[0;34m(\u001b[0m\u001b[0;34m)\u001b[0m\u001b[0;34m\u001b[0m\u001b[0;34m\u001b[0m\u001b[0m\n\u001b[0m",
      "\u001b[0;32m<ipython-input-6-6d61527c9c7e>\u001b[0m in \u001b[0;36mpop\u001b[0;34m(self)\u001b[0m\n\u001b[1;32m     14\u001b[0m             \u001b[0;32mreturn\u001b[0m \u001b[0mtemp\u001b[0m\u001b[0;34m\u001b[0m\u001b[0;34m\u001b[0m\u001b[0m\n\u001b[1;32m     15\u001b[0m         \u001b[0;32mexcept\u001b[0m\u001b[0;34m:\u001b[0m\u001b[0;34m\u001b[0m\u001b[0;34m\u001b[0m\u001b[0m\n\u001b[0;32m---> 16\u001b[0;31m             \u001b[0;32mraise\u001b[0m \u001b[0mException\u001b[0m\u001b[0;34m(\u001b[0m\u001b[0;34m'Cannot pop from an empty stack.'\u001b[0m\u001b[0;34m)\u001b[0m\u001b[0;34m\u001b[0m\u001b[0;34m\u001b[0m\u001b[0m\n\u001b[0m\u001b[1;32m     17\u001b[0m \u001b[0;34m\u001b[0m\u001b[0m\n\u001b[1;32m     18\u001b[0m     \u001b[0;32mdef\u001b[0m \u001b[0misEmpty\u001b[0m\u001b[0;34m(\u001b[0m\u001b[0mself\u001b[0m\u001b[0;34m)\u001b[0m\u001b[0;34m:\u001b[0m\u001b[0;34m\u001b[0m\u001b[0;34m\u001b[0m\u001b[0m\n",
      "\u001b[0;31mException\u001b[0m: Cannot pop from an empty stack."
     ]
    }
   ],
   "source": [
    "a.pop()"
   ]
  },
  {
   "cell_type": "code",
   "execution_count": 13,
   "metadata": {},
   "outputs": [
    {
     "data": {
      "text/plain": [
       "[]"
      ]
     },
     "execution_count": 13,
     "metadata": {},
     "output_type": "execute_result"
    }
   ],
   "source": [
    "a.getItems()"
   ]
  },
  {
   "cell_type": "code",
   "execution_count": 14,
   "metadata": {},
   "outputs": [
    {
     "data": {
      "text/plain": [
       "0"
      ]
     },
     "execution_count": 14,
     "metadata": {},
     "output_type": "execute_result"
    }
   ],
   "source": [
    "a.size()"
   ]
  },
  {
   "cell_type": "code",
   "execution_count": 15,
   "metadata": {},
   "outputs": [],
   "source": [
    "a.push(True)"
   ]
  },
  {
   "cell_type": "code",
   "execution_count": 16,
   "metadata": {},
   "outputs": [
    {
     "data": {
      "text/plain": [
       "[True]"
      ]
     },
     "execution_count": 16,
     "metadata": {},
     "output_type": "execute_result"
    }
   ],
   "source": [
    "a.getItems()"
   ]
  },
  {
   "cell_type": "code",
   "execution_count": 17,
   "metadata": {},
   "outputs": [],
   "source": [
    "a.push(None)"
   ]
  },
  {
   "cell_type": "code",
   "execution_count": 18,
   "metadata": {},
   "outputs": [
    {
     "data": {
      "text/plain": [
       "[True, None]"
      ]
     },
     "execution_count": 18,
     "metadata": {},
     "output_type": "execute_result"
    }
   ],
   "source": [
    "a.getItems()"
   ]
  },
  {
   "cell_type": "code",
   "execution_count": 19,
   "metadata": {},
   "outputs": [
    {
     "ename": "AttributeError",
     "evalue": "'Stack' object has no attribute 'items'",
     "output_type": "error",
     "traceback": [
      "\u001b[0;31m---------------------------------------------------------------------------\u001b[0m",
      "\u001b[0;31mAttributeError\u001b[0m                            Traceback (most recent call last)",
      "\u001b[0;32m<ipython-input-19-33d231656ed0>\u001b[0m in \u001b[0;36m<module>\u001b[0;34m\u001b[0m\n\u001b[1;32m      1\u001b[0m \u001b[0;31m## items is hidden\u001b[0m\u001b[0;34m\u001b[0m\u001b[0;34m\u001b[0m\u001b[0;34m\u001b[0m\u001b[0m\n\u001b[1;32m      2\u001b[0m \u001b[0;34m\u001b[0m\u001b[0m\n\u001b[0;32m----> 3\u001b[0;31m \u001b[0ma\u001b[0m\u001b[0;34m.\u001b[0m\u001b[0mitems\u001b[0m\u001b[0;34m\u001b[0m\u001b[0;34m\u001b[0m\u001b[0m\n\u001b[0m",
      "\u001b[0;31mAttributeError\u001b[0m: 'Stack' object has no attribute 'items'"
     ]
    }
   ],
   "source": [
    "## items is hidden\n",
    "\n",
    "a.items"
   ]
  },
  {
   "cell_type": "code",
   "execution_count": 20,
   "metadata": {},
   "outputs": [
    {
     "ename": "AttributeError",
     "evalue": "'Stack' object has no attribute 'items'",
     "output_type": "error",
     "traceback": [
      "\u001b[0;31m---------------------------------------------------------------------------\u001b[0m",
      "\u001b[0;31mAttributeError\u001b[0m                            Traceback (most recent call last)",
      "\u001b[0;32m<ipython-input-20-bbe9c4eeb959>\u001b[0m in \u001b[0;36m<module>\u001b[0;34m\u001b[0m\n\u001b[1;32m      1\u001b[0m \u001b[0;31m## items is hidden\u001b[0m\u001b[0;34m\u001b[0m\u001b[0;34m\u001b[0m\u001b[0;34m\u001b[0m\u001b[0m\n\u001b[1;32m      2\u001b[0m \u001b[0;34m\u001b[0m\u001b[0m\n\u001b[0;32m----> 3\u001b[0;31m \u001b[0ma\u001b[0m\u001b[0;34m.\u001b[0m\u001b[0mitems\u001b[0m\u001b[0;34m.\u001b[0m\u001b[0mappend\u001b[0m\u001b[0;34m(\u001b[0m\u001b[0;36m3\u001b[0m\u001b[0;34m)\u001b[0m\u001b[0;34m\u001b[0m\u001b[0;34m\u001b[0m\u001b[0m\n\u001b[0m",
      "\u001b[0;31mAttributeError\u001b[0m: 'Stack' object has no attribute 'items'"
     ]
    }
   ],
   "source": [
    "## items is hidden\n",
    "\n",
    "a.items.append(3)"
   ]
  },
  {
   "cell_type": "code",
   "execution_count": 21,
   "metadata": {},
   "outputs": [
    {
     "data": {
      "text/plain": [
       "[True, None]"
      ]
     },
     "execution_count": 21,
     "metadata": {},
     "output_type": "execute_result"
    }
   ],
   "source": [
    "a.getItems()"
   ]
  },
  {
   "cell_type": "code",
   "execution_count": null,
   "metadata": {},
   "outputs": [],
   "source": []
  },
  {
   "cell_type": "markdown",
   "metadata": {},
   "source": [
    "### Application of Stacks 1: Checking parentheses"
   ]
  },
  {
   "cell_type": "code",
   "execution_count": 22,
   "metadata": {},
   "outputs": [],
   "source": [
    "def parChecker(symbolString: str) -> bool:\n",
    "    \"\"\"\n",
    "    Returns whether or not a string of parenthesis is balanced.\n",
    "    \"\"\"\n",
    "    checker = Stack()\n",
    "    for par in symbolString:\n",
    "        if par == '(':\n",
    "            checker.push(None)\n",
    "        elif par == ')':\n",
    "            try:\n",
    "                checker.pop()\n",
    "            except:\n",
    "                return False\n",
    "        else:\n",
    "            raise Exception('String needs to be parentheses only.')\n",
    "    return checker.isEmpty()"
   ]
  },
  {
   "cell_type": "code",
   "execution_count": 23,
   "metadata": {},
   "outputs": [
    {
     "data": {
      "text/plain": [
       "False"
      ]
     },
     "execution_count": 23,
     "metadata": {},
     "output_type": "execute_result"
    }
   ],
   "source": [
    "parChecker('(())((')"
   ]
  },
  {
   "cell_type": "code",
   "execution_count": 24,
   "metadata": {},
   "outputs": [
    {
     "name": "stdout",
     "output_type": "stream",
     "text": [
      "Help on function parChecker in module __main__:\n",
      "\n",
      "parChecker(symbolString: str) -> bool\n",
      "    Returns whether or not a string of parenthesis is balanced.\n",
      "\n"
     ]
    }
   ],
   "source": [
    "help(parChecker)"
   ]
  },
  {
   "cell_type": "code",
   "execution_count": 25,
   "metadata": {},
   "outputs": [
    {
     "data": {
      "text/plain": [
       "(8, 0)"
      ]
     },
     "execution_count": 25,
     "metadata": {},
     "output_type": "execute_result"
    }
   ],
   "source": [
    "divmod(16, 2)"
   ]
  },
  {
   "cell_type": "code",
   "execution_count": 26,
   "metadata": {},
   "outputs": [
    {
     "data": {
      "text/plain": [
       "(4, 0)"
      ]
     },
     "execution_count": 26,
     "metadata": {},
     "output_type": "execute_result"
    }
   ],
   "source": [
    "divmod(8, 2)"
   ]
  },
  {
   "cell_type": "code",
   "execution_count": 27,
   "metadata": {},
   "outputs": [
    {
     "data": {
      "text/plain": [
       "(2, 0)"
      ]
     },
     "execution_count": 27,
     "metadata": {},
     "output_type": "execute_result"
    }
   ],
   "source": [
    "divmod(4, 2)"
   ]
  },
  {
   "cell_type": "code",
   "execution_count": 28,
   "metadata": {},
   "outputs": [
    {
     "data": {
      "text/plain": [
       "(1, 0)"
      ]
     },
     "execution_count": 28,
     "metadata": {},
     "output_type": "execute_result"
    }
   ],
   "source": [
    "divmod(2, 2)"
   ]
  },
  {
   "cell_type": "code",
   "execution_count": 29,
   "metadata": {},
   "outputs": [
    {
     "data": {
      "text/plain": [
       "(0, 1)"
      ]
     },
     "execution_count": 29,
     "metadata": {},
     "output_type": "execute_result"
    }
   ],
   "source": [
    "divmod(1, 2)"
   ]
  },
  {
   "cell_type": "code",
   "execution_count": null,
   "metadata": {},
   "outputs": [],
   "source": []
  },
  {
   "cell_type": "code",
   "execution_count": 30,
   "metadata": {},
   "outputs": [
    {
     "data": {
      "text/plain": [
       "5.0"
      ]
     },
     "execution_count": 30,
     "metadata": {},
     "output_type": "execute_result"
    }
   ],
   "source": [
    "10 / 2"
   ]
  },
  {
   "cell_type": "code",
   "execution_count": 31,
   "metadata": {},
   "outputs": [
    {
     "data": {
      "text/plain": [
       "2.5"
      ]
     },
     "execution_count": 31,
     "metadata": {},
     "output_type": "execute_result"
    }
   ],
   "source": [
    "5 / 2"
   ]
  },
  {
   "cell_type": "code",
   "execution_count": null,
   "metadata": {},
   "outputs": [],
   "source": []
  },
  {
   "cell_type": "code",
   "execution_count": 32,
   "metadata": {},
   "outputs": [
    {
     "data": {
      "text/plain": [
       "(5, 1)"
      ]
     },
     "execution_count": 32,
     "metadata": {},
     "output_type": "execute_result"
    }
   ],
   "source": [
    "divmod(11, 2)"
   ]
  },
  {
   "cell_type": "code",
   "execution_count": 33,
   "metadata": {},
   "outputs": [
    {
     "data": {
      "text/plain": [
       "(2, 1)"
      ]
     },
     "execution_count": 33,
     "metadata": {},
     "output_type": "execute_result"
    }
   ],
   "source": [
    "divmod(5, 2)"
   ]
  },
  {
   "cell_type": "code",
   "execution_count": 34,
   "metadata": {},
   "outputs": [
    {
     "data": {
      "text/plain": [
       "(1, 0)"
      ]
     },
     "execution_count": 34,
     "metadata": {},
     "output_type": "execute_result"
    }
   ],
   "source": [
    "divmod(2, 2)"
   ]
  },
  {
   "cell_type": "code",
   "execution_count": 35,
   "metadata": {},
   "outputs": [
    {
     "data": {
      "text/plain": [
       "(0, 1)"
      ]
     },
     "execution_count": 35,
     "metadata": {},
     "output_type": "execute_result"
    }
   ],
   "source": [
    "divmod(1, 2)"
   ]
  },
  {
   "cell_type": "code",
   "execution_count": null,
   "metadata": {},
   "outputs": [],
   "source": []
  },
  {
   "cell_type": "code",
   "execution_count": null,
   "metadata": {},
   "outputs": [],
   "source": []
  },
  {
   "cell_type": "code",
   "execution_count": 36,
   "metadata": {},
   "outputs": [
    {
     "data": {
      "text/plain": [
       "(1, 1)"
      ]
     },
     "execution_count": 36,
     "metadata": {},
     "output_type": "execute_result"
    }
   ],
   "source": [
    "divmod(3, 2)"
   ]
  },
  {
   "cell_type": "code",
   "execution_count": 37,
   "metadata": {},
   "outputs": [
    {
     "data": {
      "text/plain": [
       "(0, 1)"
      ]
     },
     "execution_count": 37,
     "metadata": {},
     "output_type": "execute_result"
    }
   ],
   "source": [
    "divmod(1, 2)"
   ]
  },
  {
   "cell_type": "code",
   "execution_count": null,
   "metadata": {},
   "outputs": [],
   "source": []
  },
  {
   "cell_type": "code",
   "execution_count": 38,
   "metadata": {},
   "outputs": [
    {
     "data": {
      "text/plain": [
       "(0, 0)"
      ]
     },
     "execution_count": 38,
     "metadata": {},
     "output_type": "execute_result"
    }
   ],
   "source": [
    "divmod(0, 2)"
   ]
  },
  {
   "cell_type": "markdown",
   "metadata": {},
   "source": [
    "### Application of Stacks 2: Converting from base 10 to any other base"
   ]
  },
  {
   "cell_type": "code",
   "execution_count": 501,
   "metadata": {},
   "outputs": [],
   "source": [
    "import string\n",
    "\n",
    "def toBase(num: int, base: int=2) -> str:\n",
    "    \"\"\"\n",
    "    Converts an integer into a string of the number in the given base.\n",
    "    Can only go up to base 36. \n",
    "    \"\"\"\n",
    "    digits = list(range(0, 10)) + list(string.ascii_uppercase)\n",
    "    stack = Stack()\n",
    "    if (base < 2) or (base > len(digits)):\n",
    "        raise Exception('Invalid Base')\n",
    "        \n",
    "    if num == 0:\n",
    "        return str(0)\n",
    "    \n",
    "    while num > 0:\n",
    "        num, r = divmod(num, base)\n",
    "        stack.push(r)\n",
    "    \n",
    "    base_string = ''\n",
    "    while not stack.isEmpty():\n",
    "        base_string += str(digits[stack.pop()])\n",
    "        \n",
    "    return base_string\n",
    "    "
   ]
  },
  {
   "cell_type": "code",
   "execution_count": 40,
   "metadata": {},
   "outputs": [
    {
     "name": "stdout",
     "output_type": "stream",
     "text": [
      "CPU times: user 67 µs, sys: 0 ns, total: 67 µs\n",
      "Wall time: 69.1 µs\n"
     ]
    },
    {
     "data": {
      "text/plain": [
       "'4SWRDDTUMBT8B8HIN6WOUOHEMQI1YLOQ2W9UQAYRN5NGQH8SBW8Q4OYJ'"
      ]
     },
     "execution_count": 40,
     "metadata": {},
     "output_type": "execute_result"
    }
   ],
   "source": [
    "%%time\n",
    "toBase(189738374249723813183298472389472398423748923743839472389472348923748923472394073248091, 36)"
   ]
  },
  {
   "cell_type": "code",
   "execution_count": 41,
   "metadata": {},
   "outputs": [
    {
     "data": {
      "text/plain": [
       "'2A'"
      ]
     },
     "execution_count": 41,
     "metadata": {},
     "output_type": "execute_result"
    }
   ],
   "source": [
    "toBase(42, 16)"
   ]
  },
  {
   "cell_type": "code",
   "execution_count": 42,
   "metadata": {},
   "outputs": [
    {
     "data": {
      "text/plain": [
       "'42'"
      ]
     },
     "execution_count": 42,
     "metadata": {},
     "output_type": "execute_result"
    }
   ],
   "source": [
    "toBase(42, 10)"
   ]
  },
  {
   "cell_type": "code",
   "execution_count": 43,
   "metadata": {},
   "outputs": [
    {
     "data": {
      "text/plain": [
       "'11'"
      ]
     },
     "execution_count": 43,
     "metadata": {},
     "output_type": "execute_result"
    }
   ],
   "source": [
    "toBase(37, 36)"
   ]
  },
  {
   "cell_type": "code",
   "execution_count": 44,
   "metadata": {},
   "outputs": [
    {
     "data": {
      "text/plain": [
       "'100'"
      ]
     },
     "execution_count": 44,
     "metadata": {},
     "output_type": "execute_result"
    }
   ],
   "source": [
    "toBase(256, 16)"
   ]
  },
  {
   "cell_type": "code",
   "execution_count": null,
   "metadata": {},
   "outputs": [],
   "source": []
  },
  {
   "cell_type": "code",
   "execution_count": 45,
   "metadata": {},
   "outputs": [
    {
     "name": "stdout",
     "output_type": "stream",
     "text": [
      "Help on function toBase in module __main__:\n",
      "\n",
      "toBase(num: int, base: int = 2) -> str\n",
      "    Converts an integer into a string of the number in the given base.\n",
      "    Can only go up to base 36.\n",
      "\n"
     ]
    }
   ],
   "source": [
    "help(toBase)"
   ]
  },
  {
   "cell_type": "code",
   "execution_count": null,
   "metadata": {},
   "outputs": [],
   "source": []
  },
  {
   "cell_type": "markdown",
   "metadata": {},
   "source": [
    "### Queue \n",
    "\n",
    "Queues are like stacks, except the essential property is reversed. Queues have 'first in first out' ordering, likewise they have 'last in last out' ordering, just like a line or a queue. \n",
    "\n",
    "Linked lists provide a natural data structure for implementing a queue."
   ]
  },
  {
   "cell_type": "code",
   "execution_count": 359,
   "metadata": {},
   "outputs": [
    {
     "name": "stdout",
     "output_type": "stream",
     "text": [
      "Help on class LinkedList in module __main__:\n",
      "\n",
      "class LinkedList(builtins.object)\n",
      " |  Methods defined here:\n",
      " |  \n",
      " |  __init__(self)\n",
      " |      Initialize self.  See help(type(self)) for accurate signature.\n",
      " |  \n",
      " |  addHead(self, x)\n",
      " |  \n",
      " |  addTail(self, x)\n",
      " |  \n",
      " |  isEmpty(self)\n",
      " |  \n",
      " |  nNodes(self)\n",
      " |  \n",
      " |  peekAll(self)\n",
      " |  \n",
      " |  peekHead(self)\n",
      " |  \n",
      " |  peekTail(self)\n",
      " |  \n",
      " |  popHead(self)\n",
      " |  \n",
      " |  popTail(self)\n",
      " |  \n",
      " |  ----------------------------------------------------------------------\n",
      " |  Data descriptors defined here:\n",
      " |  \n",
      " |  __dict__\n",
      " |      dictionary for instance variables (if defined)\n",
      " |  \n",
      " |  __weakref__\n",
      " |      list of weak references to the object (if defined)\n",
      "\n"
     ]
    }
   ],
   "source": [
    "help(LinkedList)"
   ]
  },
  {
   "cell_type": "code",
   "execution_count": 390,
   "metadata": {},
   "outputs": [],
   "source": [
    "class Queue:\n",
    "    \"\"\"\n",
    "    Implements a Queue. All the methods are O(1) time complexity except `get_items`.\n",
    "    \"\"\"\n",
    "    def __init__(self):\n",
    "        self.items = LinkedList()\n",
    "        \n",
    "    def getLen(self):\n",
    "        return self.items.nNodes()\n",
    "        \n",
    "    def isEmpty(self):\n",
    "        return self.items.isEmpty()\n",
    "    \n",
    "    \n",
    "    def add(self, item):\n",
    "        \"\"\"\n",
    "        Adds item to the back of the line (end of the linked list).\n",
    "        \"\"\"\n",
    "        self.items.addTail(item)\n",
    "\n",
    "            \n",
    "    def remove(self):\n",
    "        self.items.popHead()\n",
    "        \n",
    "        \n",
    "    def getItems(self):\n",
    "        return self.items.peekAll()\n",
    "        \n",
    "        \n",
    "    def peek(self):\n",
    "        \"\"\"\n",
    "        Returns the item at the front of the line (head of the linked list).\n",
    "        \"\"\"\n",
    "        return self.items.peekHead\n",
    "        \n",
    "        \n",
    "    def pop(self):\n",
    "        \"\"\"\n",
    "        Removes and returns the item at the front of the lin (head of the linked list).\n",
    "        \"\"\"\n",
    "        return self.items.popHead()\n"
   ]
  },
  {
   "cell_type": "code",
   "execution_count": 402,
   "metadata": {},
   "outputs": [
    {
     "name": "stdout",
     "output_type": "stream",
     "text": [
      "Help on class Queue in module __main__:\n",
      "\n",
      "class Queue(builtins.object)\n",
      " |  Implements a Queue. All the methods are O(1) time complexity except `get_items`.\n",
      " |  \n",
      " |  Methods defined here:\n",
      " |  \n",
      " |  __init__(self)\n",
      " |      Initialize self.  See help(type(self)) for accurate signature.\n",
      " |  \n",
      " |  add(self, item)\n",
      " |      Adds item to the back of the line (end of the linked list).\n",
      " |  \n",
      " |  getItems(self)\n",
      " |  \n",
      " |  getLen(self)\n",
      " |  \n",
      " |  isEmpty(self)\n",
      " |  \n",
      " |  peek(self)\n",
      " |      Returns the item at the front of the line (head of the linked list).\n",
      " |  \n",
      " |  pop(self)\n",
      " |      Removes and returns the item at the front of the lin (head of the linked list).\n",
      " |  \n",
      " |  remove(self)\n",
      " |  \n",
      " |  ----------------------------------------------------------------------\n",
      " |  Data descriptors defined here:\n",
      " |  \n",
      " |  __dict__\n",
      " |      dictionary for instance variables (if defined)\n",
      " |  \n",
      " |  __weakref__\n",
      " |      list of weak references to the object (if defined)\n",
      "\n"
     ]
    }
   ],
   "source": [
    "help(Queue)"
   ]
  },
  {
   "cell_type": "code",
   "execution_count": 391,
   "metadata": {},
   "outputs": [],
   "source": [
    "a = Queue()"
   ]
  },
  {
   "cell_type": "code",
   "execution_count": 392,
   "metadata": {},
   "outputs": [],
   "source": [
    "a.add(None)"
   ]
  },
  {
   "cell_type": "code",
   "execution_count": 393,
   "metadata": {},
   "outputs": [],
   "source": [
    "a.add(3)"
   ]
  },
  {
   "cell_type": "code",
   "execution_count": 394,
   "metadata": {},
   "outputs": [
    {
     "data": {
      "text/plain": [
       "[None, 3]"
      ]
     },
     "execution_count": 394,
     "metadata": {},
     "output_type": "execute_result"
    }
   ],
   "source": [
    "a.getItems()"
   ]
  },
  {
   "cell_type": "code",
   "execution_count": 395,
   "metadata": {},
   "outputs": [
    {
     "name": "stdout",
     "output_type": "stream",
     "text": [
      "None\n"
     ]
    }
   ],
   "source": [
    "print(a.pop())"
   ]
  },
  {
   "cell_type": "code",
   "execution_count": 396,
   "metadata": {},
   "outputs": [
    {
     "data": {
      "text/plain": [
       "False"
      ]
     },
     "execution_count": 396,
     "metadata": {},
     "output_type": "execute_result"
    }
   ],
   "source": [
    "a.isEmpty()"
   ]
  },
  {
   "cell_type": "code",
   "execution_count": 397,
   "metadata": {},
   "outputs": [
    {
     "data": {
      "text/plain": [
       "1"
      ]
     },
     "execution_count": 397,
     "metadata": {},
     "output_type": "execute_result"
    }
   ],
   "source": [
    "a.getLen()"
   ]
  },
  {
   "cell_type": "code",
   "execution_count": 398,
   "metadata": {},
   "outputs": [
    {
     "data": {
      "text/plain": [
       "3"
      ]
     },
     "execution_count": 398,
     "metadata": {},
     "output_type": "execute_result"
    }
   ],
   "source": [
    "a.pop()"
   ]
  },
  {
   "cell_type": "code",
   "execution_count": 399,
   "metadata": {},
   "outputs": [
    {
     "data": {
      "text/plain": [
       "True"
      ]
     },
     "execution_count": 399,
     "metadata": {},
     "output_type": "execute_result"
    }
   ],
   "source": [
    "a.isEmpty()"
   ]
  },
  {
   "cell_type": "code",
   "execution_count": 400,
   "metadata": {},
   "outputs": [
    {
     "data": {
      "text/plain": [
       "0"
      ]
     },
     "execution_count": 400,
     "metadata": {},
     "output_type": "execute_result"
    }
   ],
   "source": [
    "a.getLen()"
   ]
  },
  {
   "cell_type": "code",
   "execution_count": 401,
   "metadata": {},
   "outputs": [
    {
     "ename": "Exception",
     "evalue": "Empty linked list.",
     "output_type": "error",
     "traceback": [
      "\u001b[0;31m---------------------------------------------------------------------------\u001b[0m",
      "\u001b[0;31mException\u001b[0m                                 Traceback (most recent call last)",
      "\u001b[0;32m<ipython-input-401-9c070c907602>\u001b[0m in \u001b[0;36m<module>\u001b[0;34m\u001b[0m\n\u001b[0;32m----> 1\u001b[0;31m \u001b[0ma\u001b[0m\u001b[0;34m.\u001b[0m\u001b[0mpop\u001b[0m\u001b[0;34m(\u001b[0m\u001b[0;34m)\u001b[0m\u001b[0;34m\u001b[0m\u001b[0;34m\u001b[0m\u001b[0m\n\u001b[0m",
      "\u001b[0;32m<ipython-input-390-964d4ad47dfa>\u001b[0m in \u001b[0;36mpop\u001b[0;34m(self)\u001b[0m\n\u001b[1;32m     39\u001b[0m         \u001b[0mRemoves\u001b[0m \u001b[0;32mand\u001b[0m \u001b[0mreturns\u001b[0m \u001b[0mthe\u001b[0m \u001b[0mitem\u001b[0m \u001b[0mat\u001b[0m \u001b[0mthe\u001b[0m \u001b[0mfront\u001b[0m \u001b[0mof\u001b[0m \u001b[0mthe\u001b[0m \u001b[0mlin\u001b[0m \u001b[0;34m(\u001b[0m\u001b[0mhead\u001b[0m \u001b[0mof\u001b[0m \u001b[0mthe\u001b[0m \u001b[0mlinked\u001b[0m \u001b[0mlist\u001b[0m\u001b[0;34m)\u001b[0m\u001b[0;34m.\u001b[0m\u001b[0;34m\u001b[0m\u001b[0;34m\u001b[0m\u001b[0m\n\u001b[1;32m     40\u001b[0m         \"\"\"\n\u001b[0;32m---> 41\u001b[0;31m         \u001b[0;32mreturn\u001b[0m \u001b[0mself\u001b[0m\u001b[0;34m.\u001b[0m\u001b[0mitems\u001b[0m\u001b[0;34m.\u001b[0m\u001b[0mpopHead\u001b[0m\u001b[0;34m(\u001b[0m\u001b[0;34m)\u001b[0m\u001b[0;34m\u001b[0m\u001b[0;34m\u001b[0m\u001b[0m\n\u001b[0m",
      "\u001b[0;32m<ipython-input-367-b445628e419c>\u001b[0m in \u001b[0;36mpopHead\u001b[0;34m(self)\u001b[0m\n\u001b[1;32m    162\u001b[0m             \u001b[0;32mreturn\u001b[0m \u001b[0mself\u001b[0m\u001b[0;34m.\u001b[0m\u001b[0mhead\u001b[0m\u001b[0;34m.\u001b[0m\u001b[0mpop\u001b[0m\u001b[0;34m(\u001b[0m\u001b[0;34m)\u001b[0m\u001b[0;34m\u001b[0m\u001b[0;34m\u001b[0m\u001b[0m\n\u001b[1;32m    163\u001b[0m         \u001b[0;32melse\u001b[0m\u001b[0;34m:\u001b[0m\u001b[0;34m\u001b[0m\u001b[0;34m\u001b[0m\u001b[0m\n\u001b[0;32m--> 164\u001b[0;31m             \u001b[0;32mraise\u001b[0m \u001b[0mException\u001b[0m\u001b[0;34m(\u001b[0m\u001b[0;34m'Empty linked list.'\u001b[0m\u001b[0;34m)\u001b[0m\u001b[0;34m\u001b[0m\u001b[0;34m\u001b[0m\u001b[0m\n\u001b[0m\u001b[1;32m    165\u001b[0m \u001b[0;34m\u001b[0m\u001b[0m\n\u001b[1;32m    166\u001b[0m     \u001b[0;32mdef\u001b[0m \u001b[0mpopTail\u001b[0m\u001b[0;34m(\u001b[0m\u001b[0mself\u001b[0m\u001b[0;34m)\u001b[0m\u001b[0;34m:\u001b[0m\u001b[0;34m\u001b[0m\u001b[0;34m\u001b[0m\u001b[0m\n",
      "\u001b[0;31mException\u001b[0m: Empty linked list."
     ]
    }
   ],
   "source": [
    "a.pop()"
   ]
  },
  {
   "cell_type": "code",
   "execution_count": null,
   "metadata": {},
   "outputs": [],
   "source": []
  },
  {
   "cell_type": "code",
   "execution_count": null,
   "metadata": {},
   "outputs": [],
   "source": []
  },
  {
   "cell_type": "code",
   "execution_count": null,
   "metadata": {},
   "outputs": [],
   "source": []
  },
  {
   "cell_type": "markdown",
   "metadata": {},
   "source": [
    "### Tree\n",
    "\n",
    "Trees have a branching hierarchy starting from the root at the top and ending with the leaves at the bottom. Each leaf has a unique path from the root node. Furthermore, nodes can be moved to other spots on the tree without affecting their children.\n",
    "\n",
    "<br>\n",
    "\n",
    "* **Node**:\n",
    "The name of each node on the tree is called a *key*. A node can have information stored, called the *payload*.\n",
    "\n",
    "* **Edge**:\n",
    "An edge connects two nodes. Each node can have several outgoing edges.\n",
    "\n",
    "* **Root**:\n",
    "The root of the tree is the only node with no incoming edges.\n",
    "\n",
    "* **Path**:\n",
    "A path is an ordered list of nodes (down the tree) connected by edges. Like a file path. \n",
    "\n",
    "* **Children**:\n",
    "A set of nodes that have incoming edges from the same node are said to be children of that node.\n",
    "\n",
    "* **Parent, sibling**:\n",
    "Defined as you would expect, relative to their 'immediately related nodes'.\n",
    "\n",
    "* **Subtree**:\n",
    "The set of nodes and edges that are descendents of a given parent. \n",
    "\n",
    "* **Leaf Node**:\n",
    "A node with no children.\n",
    "\n",
    "* **Level**:\n",
    "A level $n$ of a node is the number of edges on a path down the tree form the root node to that node. For example, the root node is at level zero. \n",
    "\n",
    "* **Height**:\n",
    "A property of the tree equal to the maximum level of any node in the tree."
   ]
  },
  {
   "cell_type": "markdown",
   "metadata": {},
   "source": [
    "If each node in the tree has a maximum of two children, the tree is a **binary tree**."
   ]
  },
  {
   "cell_type": "markdown",
   "metadata": {},
   "source": [
    "There's a clever way to define a tree, recursively, from the vocabulary stated above:\n",
    "\n",
    "A tree is either empty or consists of a root and zero or more subtrees, each of which is also a tree. The root of each subtree is connected to the root of the parent tree by an edge. "
   ]
  },
  {
   "cell_type": "code",
   "execution_count": null,
   "metadata": {},
   "outputs": [],
   "source": []
  },
  {
   "cell_type": "code",
   "execution_count": 224,
   "metadata": {},
   "outputs": [],
   "source": [
    "myTree = ['a',   #root\n",
    "      ['b',  #left subtree\n",
    "       ['d', [], []],\n",
    "       ['e', [], []] ],\n",
    "      ['c',  #right subtree\n",
    "       ['f', [], []],\n",
    "       [] ]\n",
    "     ]"
   ]
  },
  {
   "cell_type": "code",
   "execution_count": 225,
   "metadata": {},
   "outputs": [
    {
     "data": {
      "text/plain": [
       "'a'"
      ]
     },
     "execution_count": 225,
     "metadata": {},
     "output_type": "execute_result"
    }
   ],
   "source": [
    "myTree[0]  # root of the tree"
   ]
  },
  {
   "cell_type": "code",
   "execution_count": 226,
   "metadata": {},
   "outputs": [
    {
     "data": {
      "text/plain": [
       "['b', ['d', [], []], ['e', [], []]]"
      ]
     },
     "execution_count": 226,
     "metadata": {},
     "output_type": "execute_result"
    }
   ],
   "source": [
    "myTree[1]  # left subtree"
   ]
  },
  {
   "cell_type": "code",
   "execution_count": 228,
   "metadata": {},
   "outputs": [
    {
     "data": {
      "text/plain": [
       "['d', [], []]"
      ]
     },
     "execution_count": 228,
     "metadata": {},
     "output_type": "execute_result"
    }
   ],
   "source": [
    "myTree[1][1]"
   ]
  },
  {
   "cell_type": "code",
   "execution_count": 230,
   "metadata": {},
   "outputs": [],
   "source": [
    "def BinaryTree(r):\n",
    "    return [r, [], []]"
   ]
  },
  {
   "cell_type": "code",
   "execution_count": 232,
   "metadata": {},
   "outputs": [],
   "source": [
    "a = BinaryTree('r')"
   ]
  },
  {
   "cell_type": "code",
   "execution_count": 233,
   "metadata": {},
   "outputs": [
    {
     "data": {
      "text/plain": [
       "['r', [], []]"
      ]
     },
     "execution_count": 233,
     "metadata": {},
     "output_type": "execute_result"
    }
   ],
   "source": [
    "a"
   ]
  },
  {
   "cell_type": "code",
   "execution_count": 234,
   "metadata": {},
   "outputs": [],
   "source": [
    "def insertLeft(root,newBranch):\n",
    "    t = root.pop(1)\n",
    "    if len(t) > 1:\n",
    "        root.insert(1,[newBranch,t,[]])\n",
    "    else:\n",
    "        root.insert(1,[newBranch, [], []])\n",
    "    return root"
   ]
  },
  {
   "cell_type": "code",
   "execution_count": 250,
   "metadata": {},
   "outputs": [],
   "source": [
    "a = BinaryTree('r')"
   ]
  },
  {
   "cell_type": "code",
   "execution_count": 251,
   "metadata": {},
   "outputs": [
    {
     "data": {
      "text/plain": [
       "['r', [], []]"
      ]
     },
     "execution_count": 251,
     "metadata": {},
     "output_type": "execute_result"
    }
   ],
   "source": [
    "a"
   ]
  },
  {
   "cell_type": "code",
   "execution_count": 252,
   "metadata": {},
   "outputs": [],
   "source": [
    "a[1] = ['t']"
   ]
  },
  {
   "cell_type": "code",
   "execution_count": 253,
   "metadata": {},
   "outputs": [
    {
     "data": {
      "text/plain": [
       "['r', ['t'], []]"
      ]
     },
     "execution_count": 253,
     "metadata": {},
     "output_type": "execute_result"
    }
   ],
   "source": [
    "a"
   ]
  },
  {
   "cell_type": "code",
   "execution_count": 254,
   "metadata": {},
   "outputs": [
    {
     "data": {
      "text/plain": [
       "['r', ['b', [], []], []]"
      ]
     },
     "execution_count": 254,
     "metadata": {},
     "output_type": "execute_result"
    }
   ],
   "source": [
    "insertLeft(a, 'b')"
   ]
  },
  {
   "cell_type": "code",
   "execution_count": 255,
   "metadata": {},
   "outputs": [
    {
     "data": {
      "text/plain": [
       "['r', ['b', [], []], []]"
      ]
     },
     "execution_count": 255,
     "metadata": {},
     "output_type": "execute_result"
    }
   ],
   "source": [
    "insertLeft(a, 't')"
   ]
  },
  {
   "cell_type": "code",
   "execution_count": 256,
   "metadata": {},
   "outputs": [],
   "source": [
    "def insertRight(root,newBranch):\n",
    "    t = root.pop(2)\n",
    "    if len(t) > 1:\n",
    "        root.insert(2,[newBranch,[],t])\n",
    "    else:\n",
    "        root.insert(2,[newBranch,[],[]])\n",
    "    return root"
   ]
  },
  {
   "cell_type": "code",
   "execution_count": 257,
   "metadata": {},
   "outputs": [],
   "source": [
    "def getRootVal(root):\n",
    "    return root[0]\n",
    "\n",
    "def setRootVal(root,newVal):\n",
    "    root[0] = newVal\n",
    "\n",
    "def getLeftChild(root):\n",
    "    return root[1]\n",
    "\n",
    "def getRightChild(root):\n",
    "    return root[2]"
   ]
  },
  {
   "cell_type": "code",
   "execution_count": 258,
   "metadata": {},
   "outputs": [
    {
     "name": "stdout",
     "output_type": "stream",
     "text": [
      "[5, [4, [], []], []]\n",
      "[3, [9, [4, [], []], []], [7, [], [6, [], []]]]\n",
      "[3, [9, [11, [4, [], []], []], []], [7, [], [6, [], []]]]\n",
      "[6, [], []]\n"
     ]
    }
   ],
   "source": [
    "r = BinaryTree(3)\n",
    "insertLeft(r,4)\n",
    "insertLeft(r,5)\n",
    "insertRight(r,6)\n",
    "insertRight(r,7)\n",
    "l = getLeftChild(r)\n",
    "print(l)\n",
    "\n",
    "setRootVal(l,9)\n",
    "print(r)\n",
    "insertLeft(l,11)\n",
    "print(r)\n",
    "print(getRightChild(getRightChild(r)))"
   ]
  },
  {
   "cell_type": "code",
   "execution_count": null,
   "metadata": {},
   "outputs": [],
   "source": []
  },
  {
   "cell_type": "code",
   "execution_count": 266,
   "metadata": {},
   "outputs": [],
   "source": [
    "class Node:\n",
    "    def __init__(self, x):\n",
    "        self.name = x\n",
    "        self.payload = None\n",
    "        self.children = list()"
   ]
  },
  {
   "cell_type": "markdown",
   "metadata": {},
   "source": [
    "### Binary Search Tree\n",
    "\n",
    "A binary search tree has the property that all left descendents are less than or equal to the node, which is less than all right descendants. (There can be variations on the equality signs, and some binary trees do not all duplicates.)\n",
    "\n",
    "Binary search trees have `O(log(N))` runtime for `insert` and `find`.\n",
    "\n",
    "<br>\n",
    "\n",
    "##### Balanced vs. Unbalanced\n",
    "Unbalanced trees have the data overwhelmingly on one side of the root node. Unbalanced trees no longer have the efficiency that makes binary search trees useful. In a balanced tree, each leaf has roughly the same length path from the root node. Each node is roughly no more than 1 level apart. \n",
    "\n",
    "<br>\n",
    "\n",
    "##### Complete\n",
    "A complete binary tree has each level filled except possibly the last level, which is filled from left to right.\n",
    "\n",
    "<br>\n",
    "\n",
    "##### Full\n",
    "A binary tree wherein each node has either zero or two children. \n",
    "\n",
    "<br>\n",
    "\n",
    "##### Perfect\n",
    "A binary tree that is both complete and full. A perfect tree has $2^k - 1$ nodes, where k is the number of levels, including the 0th level. This is because the each level will have as many nodes as all the levels before it do, minus one. \n"
   ]
  },
  {
   "cell_type": "code",
   "execution_count": 261,
   "metadata": {},
   "outputs": [],
   "source": [
    "a = Node('root')"
   ]
  },
  {
   "cell_type": "code",
   "execution_count": 404,
   "metadata": {},
   "outputs": [],
   "source": [
    "class BinaryTree:\n",
    "    def __init__(self, rootObj):\n",
    "        self.key = rootObj\n",
    "        self.leftChild = None\n",
    "        self.rightChild = None\n",
    "        self.report = list()\n",
    "        self.parent = None\n",
    "        \n",
    "    def insertLeft(self, newNode):\n",
    "        if self.leftChild:\n",
    "            # bump the existing node left\n",
    "            temp = BinaryTree(newNode)\n",
    "            temp.leftChild = self.leftChild\n",
    "            self.leftChild = temp\n",
    "        else:\n",
    "            self.leftChild = BinaryTree(newNode)\n",
    "        self.leftChild.parent = self\n",
    "            \n",
    "    def insertRight(self, newNode):\n",
    "        if self.rightChild:\n",
    "            # bump the existing node right\n",
    "            temp = BinaryTree(newNode)\n",
    "            temp.rightChild = self.rightChild\n",
    "            self.rightChild = temp\n",
    "        else:\n",
    "            self.rightChild = BinaryTree(newNode)\n",
    "        self.leftChild.parent = self\n",
    "        \n",
    "    def inOrder(self):\n",
    "        \"\"\"\n",
    "        Supplies the results of in-order traversal of the binary tree to the `report` object. \n",
    "        It does so recursively. \n",
    "        \"\"\"\n",
    "        self.report = list()  # empty list of potentially previous values\n",
    "        \n",
    "        if self.leftChild:\n",
    "            self.leftChild.inOrder()\n",
    "            self.report += self.leftChild.report  # add the left child's report\n",
    "            \n",
    "        self.report += [self.key]  # add the node's key to its report\n",
    "        \n",
    "        if self.rightChild:\n",
    "            self.rightChild.inOrder()\n",
    "            self.report += self.rightChild.report  # add the right child's report\n",
    "    \n",
    "    def preOrder(self, side='left'):\n",
    "        \"\"\"\n",
    "        Supplies the results of pre-order traversal of the binary tree to the `report` object. \n",
    "        It does so recursively. \n",
    "        \"\"\"\n",
    "        self.report = list()  # empty list of potentially previous values\n",
    "    \n",
    "        self.report += [self.key]  # add the node's key to its report\n",
    "        \n",
    "        if side == 'left':\n",
    "            if self.leftChild:\n",
    "                self.leftChild.preOrder(side=side)\n",
    "                self.report += self.leftChild.report\n",
    "            if self.rightChild:\n",
    "                self.rightChild.preOrder(side=side)\n",
    "                self.report += self.rightChild.report\n",
    "                \n",
    "        elif side == 'right':\n",
    "            if self.rightChild:\n",
    "                self.rightChild.preOrder(side=side)\n",
    "                self.report += self.rightChild.report\n",
    "            if self.leftChild:\n",
    "                self.leftChild.preOrder(side=side)\n",
    "                self.report += self.leftChild.report\n",
    "                \n",
    "    def postOrder(self, side='left'):\n",
    "        \"\"\"\n",
    "        Supplies the results of post-order traversal of the binary tree to the `report` object. \n",
    "        It does so recursively. \n",
    "        \"\"\"\n",
    "        self.report = list()  # empty list of potentially previous values\n",
    "        \n",
    "        if side == 'left':\n",
    "            if self.leftChild:\n",
    "                self.leftChild.postOrder(side=side)\n",
    "                self.report += self.leftChild.report\n",
    "            if self.rightChild:\n",
    "                self.rightChild.postOrder(side=side)\n",
    "                self.report += self.rightChild.report\n",
    "                \n",
    "        elif side == 'right':\n",
    "            if self.rightChild:\n",
    "                self.rightChild.postOrder(side=side)\n",
    "                self.report += self.rightChild.report\n",
    "            if self.leftChild:\n",
    "                self.leftChild.postOrder(side=side)\n",
    "                self.report += self.leftChild.report\n",
    "                \n",
    "        self.report += [self.key]  # add the node's key to its report"
   ]
  },
  {
   "cell_type": "markdown",
   "metadata": {},
   "source": [
    "#### Binary Tree Traversal\n",
    "\n",
    "<br>\n",
    "\n",
    "##### In-order Traversal\n",
    "Visit (usually print) the left branch, then the current node, and finally the right branch. Note that this is the same as printing in order of least to greatest. \n",
    "\n",
    "<br>\n",
    "\n",
    "##### Pre-order Traversal\n",
    "Visit the current node before the children nodes, going from the left or the right. The root node is visited first. \n",
    "\n",
    "<br>\n",
    "\n",
    "##### Post-order Traversal\n",
    "Visit the children nodes before the current node, going from the left or the right.\n",
    "The root node is visited last. "
   ]
  },
  {
   "cell_type": "markdown",
   "metadata": {},
   "source": [
    "We can also write the traversal functions externally."
   ]
  },
  {
   "cell_type": "code",
   "execution_count": 411,
   "metadata": {},
   "outputs": [],
   "source": [
    "def preorder(tree, side='left'):\n",
    "    tree.preOrder(side=side)\n",
    "    return tree.report\n",
    "\n",
    "def postorder(tree, side='left'):\n",
    "    tree.postOrder(side=side)\n",
    "    return tree.report\n",
    "\n",
    "def inorder(tree):\n",
    "    tree.inOrder()\n",
    "    return tree.report"
   ]
  },
  {
   "cell_type": "code",
   "execution_count": 503,
   "metadata": {},
   "outputs": [],
   "source": [
    "bt = BinaryTree(4)\n",
    "\n",
    "bt.insertLeft(2)\n",
    "bt.leftChild.insertLeft(1)\n",
    "bt.leftChild.insertRight(3)\n",
    "\n",
    "bt.insertRight(6)\n",
    "bt.rightChild.insertLeft(5)\n",
    "bt.rightChild.insertRight(7)"
   ]
  },
  {
   "cell_type": "code",
   "execution_count": 504,
   "metadata": {},
   "outputs": [],
   "source": [
    "\"\"\"\n",
    "                4\n",
    "        2               6\n",
    "    1      3        5        7\n",
    "\"\"\"\n",
    "None"
   ]
  },
  {
   "cell_type": "code",
   "execution_count": 505,
   "metadata": {},
   "outputs": [
    {
     "data": {
      "text/plain": [
       "[1, 2, 3, 4, 5, 6, 7]"
      ]
     },
     "execution_count": 505,
     "metadata": {},
     "output_type": "execute_result"
    }
   ],
   "source": [
    "bt.inOrder()\n",
    "bt.report"
   ]
  },
  {
   "cell_type": "code",
   "execution_count": 506,
   "metadata": {},
   "outputs": [],
   "source": [
    "bt.insertLeft(20)"
   ]
  },
  {
   "cell_type": "code",
   "execution_count": 507,
   "metadata": {},
   "outputs": [],
   "source": [
    "\"\"\"\n",
    "                4\n",
    "        20              6\n",
    "    2              5        7\n",
    "1      3\n",
    "\"\"\"\n",
    "None"
   ]
  },
  {
   "cell_type": "code",
   "execution_count": 508,
   "metadata": {},
   "outputs": [
    {
     "name": "stdout",
     "output_type": "stream",
     "text": [
      "[1, 2, 3, 20, 4, 5, 6, 7]\n",
      "[4, 20, 2, 1, 3, 6, 5, 7]\n",
      "[1, 3, 2, 20, 5, 7, 6, 4]\n"
     ]
    }
   ],
   "source": [
    "print(inorder(bt))\n",
    "print(preorder(bt))\n",
    "print(postorder(bt))"
   ]
  },
  {
   "cell_type": "code",
   "execution_count": 509,
   "metadata": {},
   "outputs": [],
   "source": [
    "bt.insertRight(0)"
   ]
  },
  {
   "cell_type": "code",
   "execution_count": 510,
   "metadata": {},
   "outputs": [],
   "source": [
    "\"\"\"\n",
    "                4\n",
    "        20            0\n",
    "    2                      6\n",
    "1      3              5         7\n",
    "\"\"\"\n",
    "None"
   ]
  },
  {
   "cell_type": "code",
   "execution_count": 511,
   "metadata": {},
   "outputs": [
    {
     "name": "stdout",
     "output_type": "stream",
     "text": [
      "[1, 2, 3, 20, 4, 0, 5, 6, 7]\n",
      "[4, 20, 2, 1, 3, 0, 6, 5, 7]\n",
      "[1, 3, 2, 20, 5, 7, 6, 0, 4]\n"
     ]
    }
   ],
   "source": [
    "print(inorder(bt))\n",
    "print(preorder(bt))\n",
    "print(postorder(bt))"
   ]
  },
  {
   "cell_type": "code",
   "execution_count": null,
   "metadata": {},
   "outputs": [],
   "source": []
  },
  {
   "cell_type": "code",
   "execution_count": 512,
   "metadata": {},
   "outputs": [
    {
     "data": {
      "text/plain": [
       "[4, 0, 6, 7, 5, 20, 2, 3, 1]"
      ]
     },
     "execution_count": 512,
     "metadata": {},
     "output_type": "execute_result"
    }
   ],
   "source": [
    "bt.preOrder(side='right')\n",
    "bt.report"
   ]
  },
  {
   "cell_type": "code",
   "execution_count": 513,
   "metadata": {},
   "outputs": [
    {
     "data": {
      "text/plain": [
       "{'key': 4,\n",
       " 'leftChild': <__main__.BinaryTree at 0x10a072690>,\n",
       " 'rightChild': <__main__.BinaryTree at 0x10a09c450>,\n",
       " 'report': [4, 0, 6, 7, 5, 20, 2, 3, 1]}"
      ]
     },
     "execution_count": 513,
     "metadata": {},
     "output_type": "execute_result"
    }
   ],
   "source": [
    "bt.__dict__"
   ]
  },
  {
   "cell_type": "code",
   "execution_count": null,
   "metadata": {},
   "outputs": [],
   "source": []
  },
  {
   "cell_type": "markdown",
   "metadata": {},
   "source": [
    "### Binary Heap \n",
    "#### (min-heaps and max-heaps)"
   ]
  },
  {
   "cell_type": "markdown",
   "metadata": {},
   "source": [
    "#### Min heap\n",
    "\n",
    "A min heap is a *complete* binary tree where each node is smaller than its children. The root is the minimum element in the tree. \n",
    "\n",
    "Min heaps can best be described as priority queues. \n",
    "\n",
    "A min heap has two key operations: `insert` and `extract_min`, both take `O(log(N))` time. "
   ]
  },
  {
   "cell_type": "code",
   "execution_count": 405,
   "metadata": {},
   "outputs": [
    {
     "name": "stdout",
     "output_type": "stream",
     "text": [
      "Help on class LinkedList in module __main__:\n",
      "\n",
      "class LinkedList(builtins.object)\n",
      " |  Methods defined here:\n",
      " |  \n",
      " |  __init__(self)\n",
      " |      Initialize self.  See help(type(self)) for accurate signature.\n",
      " |  \n",
      " |  addHead(self, x)\n",
      " |  \n",
      " |  addTail(self, x)\n",
      " |  \n",
      " |  isEmpty(self)\n",
      " |  \n",
      " |  nNodes(self)\n",
      " |  \n",
      " |  peekAll(self)\n",
      " |  \n",
      " |  peekHead(self)\n",
      " |  \n",
      " |  peekTail(self)\n",
      " |  \n",
      " |  popHead(self)\n",
      " |  \n",
      " |  popTail(self)\n",
      " |  \n",
      " |  ----------------------------------------------------------------------\n",
      " |  Data descriptors defined here:\n",
      " |  \n",
      " |  __dict__\n",
      " |      dictionary for instance variables (if defined)\n",
      " |  \n",
      " |  __weakref__\n",
      " |      list of weak references to the object (if defined)\n",
      "\n"
     ]
    }
   ],
   "source": [
    "help(LinkedList)"
   ]
  },
  {
   "cell_type": "code",
   "execution_count": 886,
   "metadata": {},
   "outputs": [],
   "source": [
    "import math as m\n",
    "\n",
    "class MinHeap(BinaryTree):\n",
    "    \n",
    "    \"\"\"\n",
    "    Implementation of a priority queue. \n",
    "    Inherits from the BinaryTree class. O(log(N)) time complexity for insert and extraction. \n",
    "    O(N) space complexity overall.\n",
    "    O(N) time complexity for inOrder, preOrder, or postOrder methods (not essential properties).\n",
    "    \"\"\"\n",
    "    \n",
    "    def __init__(self, rootObj):\n",
    "        BinaryTree.__init__(self, rootObj)\n",
    "        self.nNodes = 1\n",
    "        self.bottoms = LinkedList()\n",
    "        self.bottoms.addTail(self)\n",
    "        \n",
    "        \n",
    "    # Override BinaryTree functions\n",
    "    def insertLeft(self, x):\n",
    "        raise AttributeError(\"\"\"'Minheap' has no attribute 'insertLeft'\"\"\")\n",
    "    def insertRight(self, x):\n",
    "        raise AttributeError(\"\"\"'Minheap' has no attribute 'insertLeft'\"\"\")\n",
    "    # End\n",
    "    \n",
    "    \n",
    "    def insert(self, newNode):\n",
    "        \"\"\"\n",
    "        Inserts a new number into the min-heap. \n",
    "        Maintains a complete tree and the min-heap property. \n",
    "        O(log(N)) time complexity.\n",
    "        \"\"\"\n",
    "        n = self.toBottom()\n",
    "        n.nNodes += 1\n",
    "        \n",
    "        if not n.leftChild:  # also n.nNodes  == 0\n",
    "            n.leftChild = MinHeap(newNode)  # allocate\n",
    "            \n",
    "            self.bottoms.addTail(n.leftChild)\n",
    "            \n",
    "            n.leftChild.parent = n\n",
    "            n.bubbleUp(n.leftChild, n)  # bubble up\n",
    "            \n",
    "        else:  # (elif not n.rightChild), also n.nNodes == 1\n",
    "            n.rightChild = MinHeap(newNode)  # allocate\n",
    "            \n",
    "            self.bottoms.addTail(n.rightChild)\n",
    "            \n",
    "            n.rightChild.parent = n\n",
    "            n.bubbleUp(n.rightChild, n)  # bubble up\n",
    "\n",
    "            \n",
    "    def extract(self):\n",
    "        \"\"\"\n",
    "        Extracts the minimum (top) of the min-heap.\n",
    "        Maintains a complete tree and the min-heap property. \n",
    "        O(log(N)) time complexity.\n",
    "        \"\"\"\n",
    "        bottom = self.bottoms.popTail()\n",
    "        bottom.nNodes -= 1\n",
    "        value = self.key\n",
    "        \n",
    "        if self == bottom:  # if self.nNodes == 0\n",
    "            self.key = None\n",
    "            return value\n",
    "        \n",
    "        # Replace root node key with end key\n",
    "        self.key = bottom.key  \n",
    "            \n",
    "        # Subtract 1 from nNodes in the path up the tree \n",
    "        n = bottom\n",
    "        while n.parent:\n",
    "            n.parent.nNodes -= 1\n",
    "            n = n.parent\n",
    "        \n",
    "        # Make the end node's parent point to None\n",
    "        if bottom == bottom.parent.leftChild:\n",
    "            bottom.parent.leftChild = None\n",
    "        else:\n",
    "            bottom.parent.rightChild = None\n",
    "            \n",
    "        # Bubble down the previous end key (current root key), maintaining the min-heap property\n",
    "        n = self\n",
    "        comparing = True\n",
    "        while comparing:\n",
    "            compare = n.key\n",
    "            if n.leftChild and not n.rightChild:\n",
    "                if compare > n.leftChild.key:\n",
    "                    n.key = n.leftChild.key\n",
    "                    n.leftChild.key = compare\n",
    "                    comparing = False\n",
    "\n",
    "            elif n.leftChild and n.rightChild:\n",
    "                if (compare > n.leftChild.key) or (compare > n.rightChild.key):\n",
    "                    if n.leftChild.key <= n.rightChild.key:\n",
    "                        n.key = n.leftChild.key\n",
    "                        n.leftChild.key = compare\n",
    "                        n = n.leftChild\n",
    "                    else:\n",
    "                        n.key = n.rightChild.key\n",
    "                        n.rightChild.key = compare\n",
    "                        n = n.rightChild\n",
    "                else:\n",
    "                    comparing = False\n",
    "            else:\n",
    "                comparing = False\n",
    "            \n",
    "        return value  \n",
    "            \n",
    "        \n",
    "    def toBottom(self): \n",
    "        \"\"\"\n",
    "        Travels to the parent node of the bottommost possible entry of a complete tree. \n",
    "        The returned parent node `n` will either have both its left and right children empty,\n",
    "        or just its right child empty.\n",
    "        \"\"\"\n",
    "        n = self\n",
    "        while n.leftChild and n.rightChild:\n",
    "            n.nNodes += 1\n",
    "            if n.leftNode(n):\n",
    "                n = n.leftChild\n",
    "            else:\n",
    "                n = n.rightChild\n",
    "        return n\n",
    "    \n",
    "        \n",
    "    def bubbleUp(self, insert, n):\n",
    "        \"\"\"\n",
    "        Checks if an inserted entry is greater than its parent, if so, then bubbles it up. \n",
    "        \"\"\"\n",
    "        if insert.key < n.key:  # if violates minheap property, then bubble up\n",
    "            temp = n.key\n",
    "            temp_par = n.parent\n",
    "            prev = insert\n",
    "            \n",
    "            # Update the key values\n",
    "            n.key = prev.key\n",
    "            prev.key = temp\n",
    "            \n",
    "            # Update the parent entries\n",
    "            prev.parent = n\n",
    "            n.parent = temp_par\n",
    "            \n",
    "            if n.parent:\n",
    "                n.bubbleUp(n, n.parent)  # recurse\n",
    "\n",
    "\n",
    "    def leftNode(self, n):\n",
    "        \"\"\"\n",
    "        Returns True if going down the left of two children nodes for insert maintains \n",
    "        the complete binary tree. \n",
    "        \"\"\"\n",
    "        left = n.leftChild.nNodes\n",
    "        right = n.rightChild.nNodes\n",
    "        \n",
    "        # Check if perfect\n",
    "        p = lambda x: (x + 1) & x == 0\n",
    "        \n",
    "        if left == right:\n",
    "            return True\n",
    "        elif p(left):\n",
    "            return False\n",
    "        elif (left + 1) // 2 <= right:\n",
    "            return True\n",
    "        else:\n",
    "            return False\n",
    "        "
   ]
  },
  {
   "cell_type": "code",
   "execution_count": 885,
   "metadata": {},
   "outputs": [],
   "source": [
    "mh = MinHeap(1)\n",
    "mh.insert(4)\n",
    "mh.insert(3)\n",
    "mh.insert(5)\n",
    "mh.insert(10)\n",
    "mh.insert(0)\n",
    "# mh.insert(11)\n",
    "# mh.insert(12)\n",
    "# mh.insert(15)"
   ]
  },
  {
   "cell_type": "code",
   "execution_count": 869,
   "metadata": {},
   "outputs": [
    {
     "data": {
      "text/plain": [
       "[5, 4, 10, 0, 3, 1]"
      ]
     },
     "execution_count": 869,
     "metadata": {},
     "output_type": "execute_result"
    }
   ],
   "source": [
    "inorder(mh)"
   ]
  },
  {
   "cell_type": "code",
   "execution_count": 870,
   "metadata": {},
   "outputs": [
    {
     "data": {
      "text/plain": [
       "0"
      ]
     },
     "execution_count": 870,
     "metadata": {},
     "output_type": "execute_result"
    }
   ],
   "source": [
    "mh.extract()"
   ]
  },
  {
   "cell_type": "code",
   "execution_count": 871,
   "metadata": {},
   "outputs": [
    {
     "data": {
      "text/plain": [
       "1"
      ]
     },
     "execution_count": 871,
     "metadata": {},
     "output_type": "execute_result"
    }
   ],
   "source": [
    "mh.extract()"
   ]
  },
  {
   "cell_type": "code",
   "execution_count": 872,
   "metadata": {},
   "outputs": [
    {
     "data": {
      "text/plain": [
       "3"
      ]
     },
     "execution_count": 872,
     "metadata": {},
     "output_type": "execute_result"
    }
   ],
   "source": [
    "mh.extract()"
   ]
  },
  {
   "cell_type": "code",
   "execution_count": 873,
   "metadata": {},
   "outputs": [
    {
     "data": {
      "text/plain": [
       "[5, 4, 10]"
      ]
     },
     "execution_count": 873,
     "metadata": {},
     "output_type": "execute_result"
    }
   ],
   "source": [
    "inorder(mh)"
   ]
  },
  {
   "cell_type": "code",
   "execution_count": 874,
   "metadata": {},
   "outputs": [
    {
     "data": {
      "text/plain": [
       "4"
      ]
     },
     "execution_count": 874,
     "metadata": {},
     "output_type": "execute_result"
    }
   ],
   "source": [
    "mh.extract()"
   ]
  },
  {
   "cell_type": "code",
   "execution_count": 875,
   "metadata": {},
   "outputs": [
    {
     "data": {
      "text/plain": [
       "[10, 5]"
      ]
     },
     "execution_count": 875,
     "metadata": {},
     "output_type": "execute_result"
    }
   ],
   "source": [
    "inorder(mh)"
   ]
  },
  {
   "cell_type": "code",
   "execution_count": 876,
   "metadata": {},
   "outputs": [
    {
     "data": {
      "text/plain": [
       "5"
      ]
     },
     "execution_count": 876,
     "metadata": {},
     "output_type": "execute_result"
    }
   ],
   "source": [
    "mh.extract()"
   ]
  },
  {
   "cell_type": "code",
   "execution_count": 877,
   "metadata": {},
   "outputs": [
    {
     "data": {
      "text/plain": [
       "[10]"
      ]
     },
     "execution_count": 877,
     "metadata": {},
     "output_type": "execute_result"
    }
   ],
   "source": [
    "inorder(mh)"
   ]
  },
  {
   "cell_type": "code",
   "execution_count": 882,
   "metadata": {},
   "outputs": [
    {
     "data": {
      "text/plain": [
       "10"
      ]
     },
     "execution_count": 882,
     "metadata": {},
     "output_type": "execute_result"
    }
   ],
   "source": [
    "mh.extract()"
   ]
  },
  {
   "cell_type": "code",
   "execution_count": 884,
   "metadata": {},
   "outputs": [
    {
     "data": {
      "text/plain": [
       "0"
      ]
     },
     "execution_count": 884,
     "metadata": {},
     "output_type": "execute_result"
    }
   ],
   "source": [
    "mh.nNodes"
   ]
  },
  {
   "cell_type": "code",
   "execution_count": 753,
   "metadata": {},
   "outputs": [],
   "source": [
    "\"\"\"\n",
    "                10\n",
    "                           \n",
    "                \n",
    "    \n",
    "\"\"\"\n",
    "None "
   ]
  },
  {
   "cell_type": "code",
   "execution_count": null,
   "metadata": {},
   "outputs": [],
   "source": []
  },
  {
   "cell_type": "code",
   "execution_count": 463,
   "metadata": {},
   "outputs": [],
   "source": []
  },
  {
   "cell_type": "code",
   "execution_count": null,
   "metadata": {},
   "outputs": [],
   "source": []
  },
  {
   "cell_type": "code",
   "execution_count": null,
   "metadata": {},
   "outputs": [],
   "source": []
  },
  {
   "cell_type": "code",
   "execution_count": null,
   "metadata": {},
   "outputs": [],
   "source": []
  },
  {
   "cell_type": "code",
   "execution_count": null,
   "metadata": {},
   "outputs": [],
   "source": []
  },
  {
   "cell_type": "code",
   "execution_count": null,
   "metadata": {},
   "outputs": [],
   "source": []
  },
  {
   "cell_type": "code",
   "execution_count": null,
   "metadata": {},
   "outputs": [],
   "source": []
  },
  {
   "cell_type": "code",
   "execution_count": null,
   "metadata": {},
   "outputs": [],
   "source": []
  },
  {
   "cell_type": "code",
   "execution_count": null,
   "metadata": {},
   "outputs": [],
   "source": []
  },
  {
   "cell_type": "code",
   "execution_count": null,
   "metadata": {},
   "outputs": [],
   "source": []
  },
  {
   "cell_type": "code",
   "execution_count": null,
   "metadata": {},
   "outputs": [],
   "source": []
  },
  {
   "cell_type": "code",
   "execution_count": null,
   "metadata": {},
   "outputs": [],
   "source": []
  },
  {
   "cell_type": "code",
   "execution_count": null,
   "metadata": {},
   "outputs": [],
   "source": []
  },
  {
   "cell_type": "code",
   "execution_count": 792,
   "metadata": {},
   "outputs": [],
   "source": [
    "p = lambda x: (m.log(x + 1) / m.log(2)) % 1 == 0\n",
    "z = lambda x: (x + 1) & x == 0"
   ]
  },
  {
   "cell_type": "code",
   "execution_count": 796,
   "metadata": {},
   "outputs": [
    {
     "data": {
      "text/plain": [
       "[(0, True, True),\n",
       " (1, True, True),\n",
       " (2, False, False),\n",
       " (3, True, True),\n",
       " (4, False, False),\n",
       " (5, False, False),\n",
       " (6, False, False),\n",
       " (7, True, True),\n",
       " (8, False, False),\n",
       " (9, False, False),\n",
       " (10, False, False),\n",
       " (11, False, False),\n",
       " (12, False, False),\n",
       " (13, False, False),\n",
       " (14, False, False),\n",
       " (15, True, True),\n",
       " (16, False, False),\n",
       " (17, False, False),\n",
       " (18, False, False),\n",
       " (19, False, False)]"
      ]
     },
     "execution_count": 796,
     "metadata": {},
     "output_type": "execute_result"
    }
   ],
   "source": [
    "num = 20\n",
    "list(zip(list(range(num)), list(map(p, list(range(num)))), list(map(z, list(range(num))))))"
   ]
  },
  {
   "cell_type": "code",
   "execution_count": null,
   "metadata": {},
   "outputs": [],
   "source": []
  },
  {
   "cell_type": "code",
   "execution_count": null,
   "metadata": {},
   "outputs": [],
   "source": []
  },
  {
   "cell_type": "code",
   "execution_count": null,
   "metadata": {},
   "outputs": [],
   "source": []
  },
  {
   "cell_type": "code",
   "execution_count": null,
   "metadata": {},
   "outputs": [],
   "source": []
  },
  {
   "cell_type": "code",
   "execution_count": null,
   "metadata": {},
   "outputs": [],
   "source": []
  },
  {
   "cell_type": "code",
   "execution_count": null,
   "metadata": {},
   "outputs": [],
   "source": []
  },
  {
   "cell_type": "code",
   "execution_count": null,
   "metadata": {},
   "outputs": [],
   "source": []
  },
  {
   "cell_type": "code",
   "execution_count": null,
   "metadata": {},
   "outputs": [],
   "source": []
  },
  {
   "cell_type": "code",
   "execution_count": null,
   "metadata": {},
   "outputs": [],
   "source": []
  },
  {
   "cell_type": "code",
   "execution_count": null,
   "metadata": {},
   "outputs": [],
   "source": []
  }
 ],
 "metadata": {
  "kernelspec": {
   "display_name": "Python 3",
   "language": "python",
   "name": "python3"
  },
  "language_info": {
   "codemirror_mode": {
    "name": "ipython",
    "version": 3
   },
   "file_extension": ".py",
   "mimetype": "text/x-python",
   "name": "python",
   "nbconvert_exporter": "python",
   "pygments_lexer": "ipython3",
   "version": "3.7.4"
  }
 },
 "nbformat": 4,
 "nbformat_minor": 2
}
