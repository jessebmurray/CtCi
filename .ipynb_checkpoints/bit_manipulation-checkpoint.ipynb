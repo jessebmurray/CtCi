{
 "cells": [
  {
   "cell_type": "markdown",
   "metadata": {},
   "source": [
    "# Bit manipulation"
   ]
  },
  {
   "cell_type": "code",
   "execution_count": 21,
   "metadata": {},
   "outputs": [],
   "source": [
    "def xor(bool1, bool2):\n",
    "    return bool1 and bool2 or not bool1 and not bool2"
   ]
  },
  {
   "cell_type": "code",
   "execution_count": 22,
   "metadata": {},
   "outputs": [
    {
     "data": {
      "text/plain": [
       "True"
      ]
     },
     "execution_count": 22,
     "metadata": {},
     "output_type": "execute_result"
    }
   ],
   "source": [
    "xor(False, False)"
   ]
  },
  {
   "cell_type": "markdown",
   "metadata": {},
   "source": [
    "### Two's complement\n",
    "\n",
    "Integers are typically stored in two's complement representation. In this method, positive numbers are represented as themselves, with a zero in the 'sign' bit. Negative numbers are represented in a more complicated way. First, there's a one in the 'sign' bit. Then, for storage in an $N$ bit array, a negative number $n$ is stored as the binary representation of the complement of $2^N$ and $n$'s absolute value, which is just $2^N - |n|$. Note that $N$ does not include the sign bit. \n",
    "\n",
    "In other words, negative numbers are stored 'backwards'. For example, for a five bit array, the greatest positive number that can be stored is 31: `0` `11111` in binary. Then, -31 can be stored backwards: `1` `00001`, which is the binary representation of $2^5 - |-31| = 32 - 31 = 1$. "
   ]
  },
  {
   "cell_type": "markdown",
   "metadata": {},
   "source": [
    "<img src=\"signed_bits.png\" width=\"60%\">"
   ]
  },
  {
   "cell_type": "markdown",
   "metadata": {},
   "source": [
    "### Right shift\n",
    "There are two types of right shift operators: arithmetic and logical right shift.\n",
    "\n",
    "#### Arithmetic right shift\n",
    "This operator essentially divides by two, with the last 1 shifting right to become 0. If there is a sign bit, it does not change. Arithmetic right shift is indicated by a `>>` operator. It's floor division for positive numbers and ceiling division for negative numbers. \n",
    "\n",
    "#### Logical right shift\n",
    "This operator shits all the bits right, with the most significant bit (the farthest left bit) becoming 0. Logical right shift is represented by `>>>`. For signed binary numbers, the most significant bit is the sign bit. In that way, logical right shifted negative numbers become positive and, if they continue to be shifted right, eventually become 0 because the most significant bit, which is zero, is shifted repeatedly. "
   ]
  },
  {
   "cell_type": "code",
   "execution_count": null,
   "metadata": {},
   "outputs": [],
   "source": []
  },
  {
   "cell_type": "code",
   "execution_count": null,
   "metadata": {},
   "outputs": [],
   "source": []
  },
  {
   "cell_type": "code",
   "execution_count": null,
   "metadata": {},
   "outputs": [],
   "source": []
  },
  {
   "cell_type": "code",
   "execution_count": null,
   "metadata": {},
   "outputs": [],
   "source": []
  },
  {
   "cell_type": "code",
   "execution_count": null,
   "metadata": {},
   "outputs": [],
   "source": []
  },
  {
   "cell_type": "code",
   "execution_count": null,
   "metadata": {},
   "outputs": [],
   "source": []
  },
  {
   "cell_type": "code",
   "execution_count": null,
   "metadata": {},
   "outputs": [],
   "source": []
  },
  {
   "cell_type": "code",
   "execution_count": null,
   "metadata": {},
   "outputs": [],
   "source": []
  },
  {
   "cell_type": "code",
   "execution_count": null,
   "metadata": {},
   "outputs": [],
   "source": []
  },
  {
   "cell_type": "code",
   "execution_count": null,
   "metadata": {},
   "outputs": [],
   "source": []
  },
  {
   "cell_type": "code",
   "execution_count": null,
   "metadata": {},
   "outputs": [],
   "source": []
  },
  {
   "cell_type": "code",
   "execution_count": null,
   "metadata": {},
   "outputs": [],
   "source": []
  },
  {
   "cell_type": "code",
   "execution_count": null,
   "metadata": {},
   "outputs": [],
   "source": []
  },
  {
   "cell_type": "code",
   "execution_count": null,
   "metadata": {},
   "outputs": [],
   "source": []
  }
 ],
 "metadata": {
  "kernelspec": {
   "display_name": "Python 3",
   "language": "python",
   "name": "python3"
  },
  "language_info": {
   "codemirror_mode": {
    "name": "ipython",
    "version": 3
   },
   "file_extension": ".py",
   "mimetype": "text/x-python",
   "name": "python",
   "nbconvert_exporter": "python",
   "pygments_lexer": "ipython3",
   "version": "3.7.4"
  }
 },
 "nbformat": 4,
 "nbformat_minor": 2
}
