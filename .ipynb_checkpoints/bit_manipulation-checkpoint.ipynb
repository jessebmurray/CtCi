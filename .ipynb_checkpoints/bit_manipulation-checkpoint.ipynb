{
 "cells": [
  {
   "cell_type": "markdown",
   "metadata": {},
   "source": [
    "# Bit manipulation"
   ]
  },
  {
   "cell_type": "code",
   "execution_count": 21,
   "metadata": {},
   "outputs": [],
   "source": [
    "def xor(bool1, bool2):\n",
    "    return bool1 and bool2 or not bool1 and not bool2"
   ]
  },
  {
   "cell_type": "code",
   "execution_count": 22,
   "metadata": {},
   "outputs": [
    {
     "data": {
      "text/plain": [
       "True"
      ]
     },
     "execution_count": 22,
     "metadata": {},
     "output_type": "execute_result"
    }
   ],
   "source": [
    "xor(False, False)"
   ]
  },
  {
   "cell_type": "markdown",
   "metadata": {},
   "source": [
    "### Two's complement\n",
    "\n",
    "Integers are typically stored in two's complement representation. In this method, positive numbers are represented as themselves, with a zero in the 'sign' bit. Negative numbers are represented in a more complicated way. First, there's a one in the 'sign' bit. Then, for storage in an $N$ bit array, a negative number $n$ is stored as the binary representation of the complement of $2^N$ and $n$'s absolute value, which is just $2^N - |n|$. Note that $N$ does not include the sign bit. \n",
    "\n",
    "In other words, negative numbers are stored 'backwards'. For example, for a five bit array, the greatest positive number that can be stored is 31: `0` `11111` in binary. Then, -31 can be stored backwards: `1` `00001`, which is the binary representation of $2^5 - |-31| = 32 - 31 = 1$. "
   ]
  },
  {
   "cell_type": "markdown",
   "metadata": {},
   "source": [
    "<img src=\"signed_bits.png\" width=\"60%\">"
   ]
  },
  {
   "cell_type": "markdown",
   "metadata": {},
   "source": [
    "### Right shift\n",
    "There are two types of right shift operators: arithmetic and logical right shift.\n",
    "\n",
    "#### Arithmetic right shift\n",
    "This operator essentially divides by two, with the last 1 shifting right to become 0. If there is a sign bit, it does not change. Arithmetic right shift is indicated by a `>>` operator. It's floor division for positive numbers and ceiling division for negative numbers. \n",
    "\n",
    "#### Logical right shift\n",
    "This operator shits all the bits right, with the most significant bit (the farthest left bit) becoming 0. Logical right shift is represented by `>>>`. For signed binary numbers, the most significant bit is the sign bit. In that way, logical right shifted negative numbers become positive and, if they continue to be shifted right, eventually become 0 because the most significant bit, which is zero, is shifted repeatedly. "
   ]
  },
  {
   "cell_type": "markdown",
   "metadata": {},
   "source": [
    "## Bit tasks"
   ]
  },
  {
   "cell_type": "markdown",
   "metadata": {},
   "source": [
    "### Get bit\n",
    "\n",
    "This method shifts 1 over (leftward) by `i` bits. By performing an `AND` with some number `num`, all the bits are cleared except for the bit at `i`. In that way, we get the bit at `i`, 0 or 1. "
   ]
  },
  {
   "cell_type": "code",
   "execution_count": 138,
   "metadata": {},
   "outputs": [],
   "source": [
    "def get_bit(num: int, i: int) -> bool:\n",
    "    \"\"\"Returns whether the `i`th bit of a number is 1, where i starts from 0 and goes leftward.\"\"\"\n",
    "    # return True if (num & 1 << i) >> i == 1 else False\n",
    "    # Or, another way\n",
    "    return (num & 1 << i) != 0"
   ]
  },
  {
   "cell_type": "code",
   "execution_count": 132,
   "metadata": {},
   "outputs": [
    {
     "data": {
      "text/plain": [
       "True"
      ]
     },
     "execution_count": 132,
     "metadata": {},
     "output_type": "execute_result"
    }
   ],
   "source": [
    "get_bit(3, 1)"
   ]
  },
  {
   "cell_type": "markdown",
   "metadata": {},
   "source": [
    "### Set bit\n",
    "This method shifts 1 over (leftward) bit `i` bits, just like get bit. Then, by performing an `OR` (instead of an `AND`) with some number `num`, only the value at bit `i` changes. (If it was previously a 0, it becomes a 1, if it was previously a 1, it says a 1.)"
   ]
  },
  {
   "cell_type": "code",
   "execution_count": 133,
   "metadata": {},
   "outputs": [],
   "source": [
    "def set_bit(num: int, i: int) -> int:\n",
    "    \"\"\"Sets the `i`th bit of a number to 1, where i starts from 0 and goes leftward.\"\"\"\n",
    "    return num | 1 << i"
   ]
  },
  {
   "cell_type": "code",
   "execution_count": 137,
   "metadata": {},
   "outputs": [
    {
     "data": {
      "text/plain": [
       "3"
      ]
     },
     "execution_count": 137,
     "metadata": {},
     "output_type": "execute_result"
    }
   ],
   "source": [
    "set_bit(2, 0)"
   ]
  },
  {
   "cell_type": "markdown",
   "metadata": {},
   "source": [
    "### Clear bit\n",
    "This method is basically the reverse of `set_bit`. First, 1 is shifted over `i` bits and negated to create a number like `1101111`, then negated to create `0010000`. Then, by performing an `AND` with some number `num`, the ith bit is cleared and the remaining bits are left unchanged. (Because `x & 1s = x` and `x & 0s = 0`.)"
   ]
  },
  {
   "cell_type": "code",
   "execution_count": 221,
   "metadata": {},
   "outputs": [],
   "source": [
    "def clear_bit(num: int, i: int) -> int:\n",
    "    \"\"\"Clears the `i`th bit a number to 0, where i starts from 0 and goes leftward.\"\"\"\n",
    "    return ~ (1 << i) & num"
   ]
  },
  {
   "cell_type": "code",
   "execution_count": 222,
   "metadata": {},
   "outputs": [
    {
     "data": {
      "text/plain": [
       "1"
      ]
     },
     "execution_count": 222,
     "metadata": {},
     "output_type": "execute_result"
    }
   ],
   "source": [
    "clear_bit(5, 2)"
   ]
  },
  {
   "cell_type": "code",
   "execution_count": 214,
   "metadata": {},
   "outputs": [],
   "source": [
    "\"\"\"\n",
    "1 << 2 = 0  100\n",
    "\n",
    "~ ... = 1  011\n",
    "\n",
    "num = 0  101\n",
    "\n",
    "... & num = 0  001\n",
    "\"\"\"\n",
    "# The second bit is cleared\n",
    "None"
   ]
  },
  {
   "cell_type": "markdown",
   "metadata": {},
   "source": [
    "We can also clear the least significant bits up to and including the `i`th bit."
   ]
  },
  {
   "cell_type": "code",
   "execution_count": 267,
   "metadata": {},
   "outputs": [],
   "source": [
    "def clear_least(num, i):\n",
    "    return -1 << i + 1 & num"
   ]
  },
  {
   "cell_type": "code",
   "execution_count": 268,
   "metadata": {},
   "outputs": [
    {
     "data": {
      "text/plain": [
       "4"
      ]
     },
     "execution_count": 268,
     "metadata": {},
     "output_type": "execute_result"
    }
   ],
   "source": [
    "clear_least(7, 1)"
   ]
  },
  {
   "cell_type": "code",
   "execution_count": 264,
   "metadata": {},
   "outputs": [],
   "source": [
    "\"\"\"\n",
    "num = 0  111\n",
    "\n",
    "result = 0  100\n",
    "\"\"\"\n",
    "None"
   ]
  },
  {
   "cell_type": "markdown",
   "metadata": {},
   "source": [
    "And we can clear the most significant bits up to and including the `i`th bit. "
   ]
  },
  {
   "cell_type": "code",
   "execution_count": 274,
   "metadata": {},
   "outputs": [],
   "source": [
    "def clear_most(num, i):\n",
    "    return  (1 << i) - 1 & num"
   ]
  },
  {
   "cell_type": "code",
   "execution_count": 276,
   "metadata": {},
   "outputs": [
    {
     "data": {
      "text/plain": [
       "2"
      ]
     },
     "execution_count": 276,
     "metadata": {},
     "output_type": "execute_result"
    }
   ],
   "source": [
    "clear_most(6, 2)"
   ]
  },
  {
   "cell_type": "code",
   "execution_count": 277,
   "metadata": {},
   "outputs": [],
   "source": [
    "\"\"\"\n",
    "num = 0  110\n",
    "\n",
    "result = 0  010\n",
    "\"\"\"\n",
    "None"
   ]
  },
  {
   "cell_type": "markdown",
   "metadata": {},
   "source": [
    "### Update bit\n",
    "\n",
    "We can update bit `i` in a number become some number `v` (0 or 1) by first clearing bit `i` using `clear_bit`, then shifting the intended number `v` leftward to the `i`th bit and doing an `OR` between the two."
   ]
  },
  {
   "cell_type": "code",
   "execution_count": 299,
   "metadata": {},
   "outputs": [],
   "source": [
    "def update_bit(num, i, v):\n",
    "    \"\"\"Updates the `i`th bit of a number to v, where i starts from 0 and goes leftward.\"\"\"\n",
    "    return clear_bit(num, i) | v << i"
   ]
  },
  {
   "cell_type": "code",
   "execution_count": 300,
   "metadata": {},
   "outputs": [
    {
     "data": {
      "text/plain": [
       "7"
      ]
     },
     "execution_count": 300,
     "metadata": {},
     "output_type": "execute_result"
    }
   ],
   "source": [
    "update_bit(5, 1, 1)"
   ]
  },
  {
   "cell_type": "code",
   "execution_count": 301,
   "metadata": {},
   "outputs": [
    {
     "data": {
      "text/plain": [
       "5"
      ]
     },
     "execution_count": 301,
     "metadata": {},
     "output_type": "execute_result"
    }
   ],
   "source": [
    "update_bit(5, 2, 1)"
   ]
  },
  {
   "cell_type": "code",
   "execution_count": null,
   "metadata": {},
   "outputs": [],
   "source": []
  },
  {
   "cell_type": "code",
   "execution_count": null,
   "metadata": {},
   "outputs": [],
   "source": []
  },
  {
   "cell_type": "code",
   "execution_count": null,
   "metadata": {},
   "outputs": [],
   "source": []
  },
  {
   "cell_type": "code",
   "execution_count": null,
   "metadata": {},
   "outputs": [],
   "source": []
  },
  {
   "cell_type": "code",
   "execution_count": null,
   "metadata": {},
   "outputs": [],
   "source": []
  },
  {
   "cell_type": "code",
   "execution_count": null,
   "metadata": {},
   "outputs": [],
   "source": []
  },
  {
   "cell_type": "code",
   "execution_count": null,
   "metadata": {},
   "outputs": [],
   "source": []
  }
 ],
 "metadata": {
  "kernelspec": {
   "display_name": "Python 3",
   "language": "python",
   "name": "python3"
  },
  "language_info": {
   "codemirror_mode": {
    "name": "ipython",
    "version": 3
   },
   "file_extension": ".py",
   "mimetype": "text/x-python",
   "name": "python",
   "nbconvert_exporter": "python",
   "pygments_lexer": "ipython3",
   "version": "3.7.4"
  }
 },
 "nbformat": 4,
 "nbformat_minor": 2
}
