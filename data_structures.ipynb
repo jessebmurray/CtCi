{
 "cells": [
  {
   "cell_type": "code",
   "execution_count": 36,
   "metadata": {},
   "outputs": [],
   "source": [
    "# Base version\n",
    "\n",
    "class ListNode:\n",
    "    def __init__(self, x):\n",
    "        self.val = x\n",
    "        self.next = None\n",
    "       "
   ]
  },
  {
   "cell_type": "code",
   "execution_count": 466,
   "metadata": {},
   "outputs": [],
   "source": [
    "class ListNode:\n",
    "    def __init__(self, x):\n",
    "        self.val = x\n",
    "        self.next = None\n",
    "        \n",
    "    def append(self, x):\n",
    "        end = ListNode(x)\n",
    "        n = self\n",
    "        while n.next is not None:\n",
    "            n = n.next\n",
    "        n.next = end\n",
    "        \n",
    "    def print_all(self):\n",
    "        n = self\n",
    "        ll = list()\n",
    "        while n is not None:\n",
    "            ll.append(n.val)\n",
    "            n = n.next\n",
    "        return ll\n",
    "            \n",
    "    def delete_all(self, value):\n",
    "        # deletes any and all instances of the value\n",
    "        n = self\n",
    "        \n",
    "    \n",
    "        def delete_heads(n):\n",
    "            while (n is not None) and (n.val == value):  # delete head(s)\n",
    "                if n.next is None:  # if reached end of list\n",
    "                    n.val = None\n",
    "                else:  # replace head with next\n",
    "                    n.val = n.next.val\n",
    "                    n.next = n.next.next   \n",
    "                    \n",
    "        delete_heads(n)\n",
    "\n",
    "        while (n is not None) and (n.next is not None):  # delete rest\n",
    "            if n.next.val == value:\n",
    "                if n.next.next is None:\n",
    "                    n.next = None\n",
    "                else:\n",
    "                    n.next = n.next.next\n",
    "            n = n.next  # continue iteration\n",
    "            delete_heads(n)  # potentially the new node has the value\n",
    "            \n",
    "        n = self\n",
    "        while n.next is not None:\n",
    "            if (n.next.next is None) and (n.next.val is None):\n",
    "                n.next = None\n",
    "            else:\n",
    "                n = n.next\n"
   ]
  },
  {
   "cell_type": "code",
   "execution_count": 475,
   "metadata": {},
   "outputs": [],
   "source": [
    "a = ListNode(3)\n",
    "a.append(3)\n",
    "a.append(6)\n",
    "a.append(7)\n",
    "a.append(7)\n",
    "# a.append(3)"
   ]
  },
  {
   "cell_type": "code",
   "execution_count": 476,
   "metadata": {},
   "outputs": [],
   "source": [
    "a.delete_all(7)"
   ]
  },
  {
   "cell_type": "code",
   "execution_count": 477,
   "metadata": {},
   "outputs": [
    {
     "data": {
      "text/plain": [
       "[3, 3, 6]"
      ]
     },
     "execution_count": 477,
     "metadata": {},
     "output_type": "execute_result"
    }
   ],
   "source": [
    "a.print_all()"
   ]
  },
  {
   "cell_type": "code",
   "execution_count": null,
   "metadata": {},
   "outputs": [],
   "source": []
  },
  {
   "cell_type": "code",
   "execution_count": 405,
   "metadata": {},
   "outputs": [],
   "source": [
    "a = a.next"
   ]
  },
  {
   "cell_type": "code",
   "execution_count": 410,
   "metadata": {},
   "outputs": [
    {
     "data": {
      "text/plain": [
       "3"
      ]
     },
     "execution_count": 410,
     "metadata": {},
     "output_type": "execute_result"
    }
   ],
   "source": [
    "a.val"
   ]
  },
  {
   "cell_type": "code",
   "execution_count": 428,
   "metadata": {},
   "outputs": [
    {
     "data": {
      "text/plain": [
       "7"
      ]
     },
     "execution_count": 428,
     "metadata": {},
     "output_type": "execute_result"
    }
   ],
   "source": [
    "a.change()"
   ]
  },
  {
   "cell_type": "code",
   "execution_count": 426,
   "metadata": {},
   "outputs": [
    {
     "data": {
      "text/plain": [
       "3"
      ]
     },
     "execution_count": 426,
     "metadata": {},
     "output_type": "execute_result"
    }
   ],
   "source": [
    "a.val"
   ]
  },
  {
   "cell_type": "code",
   "execution_count": null,
   "metadata": {},
   "outputs": [],
   "source": []
  },
  {
   "cell_type": "code",
   "execution_count": null,
   "metadata": {},
   "outputs": [],
   "source": []
  },
  {
   "cell_type": "code",
   "execution_count": null,
   "metadata": {},
   "outputs": [],
   "source": []
  },
  {
   "cell_type": "code",
   "execution_count": null,
   "metadata": {},
   "outputs": [],
   "source": []
  },
  {
   "cell_type": "code",
   "execution_count": null,
   "metadata": {},
   "outputs": [],
   "source": []
  },
  {
   "cell_type": "code",
   "execution_count": null,
   "metadata": {},
   "outputs": [],
   "source": []
  }
 ],
 "metadata": {
  "kernelspec": {
   "display_name": "Python 3",
   "language": "python",
   "name": "python3"
  },
  "language_info": {
   "codemirror_mode": {
    "name": "ipython",
    "version": 3
   },
   "file_extension": ".py",
   "mimetype": "text/x-python",
   "name": "python",
   "nbconvert_exporter": "python",
   "pygments_lexer": "ipython3",
   "version": "3.7.4"
  }
 },
 "nbformat": 4,
 "nbformat_minor": 2
}
